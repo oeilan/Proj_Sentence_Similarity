{
 "cells": [
  {
   "cell_type": "markdown",
   "metadata": {},
   "source": [
    "# Sentence similarity prediction model\n",
    "\n",
    "This model uses English-English sentence pairs with similarity score data from the Semantic Evaluation competition. Data is downloaded from http://ixa2.si.ehu.es/stswiki/images/4/48/Stsbenchmark.tar.gz\n",
    "\n",
    "The model objective is to predict a similarity score between 0 and 5 given a pair of english sentences, and achieve a high pearson correlation for predicted scores and benchmark scores given in the dataset.\n",
    "\n",
    "This is a first cut model (using keras) to attempt the above objective. \n",
    "\n",
    "Model uses a pretrained Glove embedding to represent words in the sentences.\n",
    "A training sample comprising of a sentence pair is fed into 2 separate networks, one for each sentence. This network has 2 layers: a non-trainable embedding layer followed by a LSTM layer.  \n",
    "The vector output of the LSTM for each sentence is normalized and cosine distance is computed for the 2 unit vectors to generate a similarity score.\n"
   ]
  },
  {
   "cell_type": "markdown",
   "metadata": {},
   "source": [
    "# Imports and Inits"
   ]
  },
  {
   "cell_type": "code",
   "execution_count": 1,
   "metadata": {},
   "outputs": [
    {
     "name": "stderr",
     "output_type": "stream",
     "text": [
      "Using TensorFlow backend.\n"
     ]
    }
   ],
   "source": [
    "%matplotlib inline\n",
    "import matplotlib.pyplot as plt\n",
    "\n",
    "import collections\n",
    "import re\n",
    "import random\n",
    "import numpy as np\n",
    "\n",
    "# from nltk.tokenize import sent_tokenize, word_tokenize\n",
    "import keras\n",
    "from keras.preprocessing.text import Tokenizer\n",
    "from keras.preprocessing.sequence import pad_sequences\n",
    "from keras.models import Sequential, Model, load_model\n",
    "from keras.layers import Dense, LSTM, Dropout, Input, Embedding, Bidirectional\n",
    "from keras.optimizers import RMSprop, Adam\n",
    "from keras import backend as K\n",
    "\n",
    "from keras.callbacks import ModelCheckpoint\n",
    "from keras.utils import np_utils\n",
    "\n",
    "import tensorflow as tf\n"
   ]
  },
  {
   "cell_type": "code",
   "execution_count": 2,
   "metadata": {
    "collapsed": true
   },
   "outputs": [],
   "source": [
    "N_SEQ = 58\n",
    "N_VOCAB = 100000\n",
    "EMBED_DIM = 50\n",
    "\n",
    "unk_vec = np.zeros(EMBED_DIM)"
   ]
  },
  {
   "cell_type": "code",
   "execution_count": 3,
   "metadata": {},
   "outputs": [
    {
     "name": "stdout",
     "output_type": "stream",
     "text": [
      "./data/glove/glove.6B.50d.txt\n"
     ]
    }
   ],
   "source": [
    "fname_sts_trn = './data/sts_source/sts-train.txt'\n",
    "fname_sts_val = './data/sts_source/sts-dev.txt'\n",
    "fname_sts_tes = './data/sts_source/sts-test.txt'\n",
    "\n",
    "fname_glove = './data/glove/glove.6B.'+str(EMBED_DIM)+'d.txt'\n",
    "fname_model = 'RNN_STS'\n",
    "print(fname_glove)"
   ]
  },
  {
   "cell_type": "markdown",
   "metadata": {},
   "source": [
    "# Data and embedding source\n",
    "\n",
    "Please download dataset and place file in ./data/sts_source/ directory from this link:\n",
    "'http://ixa2.si.ehu.es/stswiki/images/4/48/Stsbenchmark.tar.gz'\n",
    "\n",
    "Description of dataset is found here :\n",
    "http://ixa2.si.ehu.es/stswiki/index.php/STSbenchmark\n",
    "\n",
    "Please download pretrained glove embedding and place file in ./data/glove/ from this link:\n",
    "'http://nlp.stanford.edu/data/glove.6B.zip'"
   ]
  },
  {
   "cell_type": "markdown",
   "metadata": {
    "collapsed": true
   },
   "source": [
    "# Read in sentence pair and score from STS data set\n"
   ]
  },
  {
   "cell_type": "code",
   "execution_count": 4,
   "metadata": {},
   "outputs": [
    {
     "name": "stdout",
     "output_type": "stream",
     "text": [
      "./data/sts_source/sts-train.txt records count: 5749\n",
      "./data/sts_source/sts-dev.txt records count: 1500\n",
      "./data/sts_source/sts-test.txt records count: 1379\n",
      "Total data samples: 8628\n"
     ]
    }
   ],
   "source": [
    "def read_sts(fname):\n",
    "\n",
    "    f = open(fname, 'r', encoding='utf-8')\n",
    "\n",
    "    i = 0\n",
    "    scores = []\n",
    "    sentences1 = []\n",
    "    sentences2 = []\n",
    "    while True:\n",
    "        l = f.readline()  # read 1 line\n",
    "        if not l:\n",
    "            break\n",
    "\n",
    "        data_fields = l.split(\"\\t\")\n",
    "        scores.append(float(data_fields[4]))\n",
    "        sentences1.append(data_fields[5])\n",
    "        sentences2.append(data_fields[6])\n",
    "        i = i + 1\n",
    "    \n",
    "        \n",
    "    f.close()\n",
    "    print(fname,\"records count:\",i)\n",
    "\n",
    "    return i, scores, sentences1, sentences2\n",
    "\n",
    "# read data files and obtain lists of sentences\n",
    "n_trn, scores_trn, sentences1_trn, sentences2_trn = read_sts(fname_sts_trn)\n",
    "n_val, scores_val, sentences1_val, sentences2_val = read_sts(fname_sts_val)\n",
    "n_tes, scores_tes, sentences1_tes, sentences2_tes = read_sts(fname_sts_tes)\n",
    "print(\"Total data samples:\",n_trn+n_val+n_tes)"
   ]
  },
  {
   "cell_type": "markdown",
   "metadata": {},
   "source": [
    "# Check through dataset\n",
    "\n"
   ]
  },
  {
   "cell_type": "code",
   "execution_count": 5,
   "metadata": {},
   "outputs": [
    {
     "name": "stdout",
     "output_type": "stream",
     "text": [
      "Train Sample 4595 with similarity score 1.4\n",
      "1 : Obama holds talks over Syria action\n",
      "2 : Cameron loses parliamentary vote on Syria military action\n",
      "\n",
      "Validation Sample 1154 with similarity score 3.0\n",
      "1 : The Winston-Salem, North Carolina company opened six stores during the quarter, bringing the total to 282.\n",
      "2 : Six new Krispy Kreme stores were opened in the first quarter, bringing the total number of stores to 282.\n",
      "\n",
      "Test Sample 267 with similarity score 3.6\n",
      "1 : Red and white bus driving down road.\n",
      "2 : A bus drives down a busy road.\n",
      "\n"
     ]
    }
   ],
   "source": [
    "# Visually check data set by printing one random sample from each of trn, val, tes\n",
    "\n",
    "n = int(random.uniform(0,1)*n_trn)\n",
    "print(\"Train Sample\", n, \"with similarity score\", scores_trn[n])\n",
    "print(\"1 :\", sentences1_trn[n])\n",
    "print(\"2 :\", sentences2_trn[n])\n",
    "\n",
    "n = int(random.uniform(0,1)*n_val)\n",
    "print(\"Validation Sample\", n, \"with similarity score\", scores_val[n])\n",
    "print(\"1 :\", sentences1_val[n])\n",
    "print(\"2 :\", sentences2_val[n])\n",
    "\n",
    "n = int(random.uniform(0,1)*n_tes)\n",
    "print(\"Test Sample\", n, \"with similarity score\", scores_tes[n])\n",
    "print(\"1 :\", sentences1_tes[n])\n",
    "print(\"2 :\", sentences2_tes[n])"
   ]
  },
  {
   "cell_type": "code",
   "execution_count": 6,
   "metadata": {
    "collapsed": true
   },
   "outputs": [],
   "source": [
    "# compile certain stats of dataset : max_sentence_len, n_char, n_words, n_vocab\n",
    "\n",
    "scores_all = scores_trn + scores_val + scores_tes\n",
    "n_data = len(scores_all)\n",
    "\n",
    "sent1_all = sentences1_trn + sentences1_val + sentences1_tes\n",
    "sent2_all = sentences2_trn + sentences2_val + sentences2_tes\n",
    "\n",
    "sent_all = sent1_all + sent2_all\n",
    "n_sent = len(sent_all)"
   ]
  },
  {
   "cell_type": "code",
   "execution_count": 7,
   "metadata": {},
   "outputs": [
    {
     "name": "stdout",
     "output_type": "stream",
     "text": [
      "Sentence word length distribution:\n",
      "min 2, max 58, mean 10.34, std 5.58\n",
      "Shortest sentence: 9224  --  Kangaroo eating.\n",
      "\n"
     ]
    },
    {
     "data": {
      "image/png": "[encoded data removed]",
      "text/plain": [
       "<matplotlib.figure.Figure at 0x1a16845198>"
      ]
     },
     "metadata": {},
     "output_type": "display_data"
    },
    {
     "data": {
      "image/png": "[encoded data removed]",
      "text/plain": [
       "<matplotlib.figure.Figure at 0x1a1e720f28>"
      ]
     },
     "metadata": {},
     "output_type": "display_data"
    },
    {
     "name": "stdout",
     "output_type": "stream",
     "text": [
      "Total number of samples           n_data: 8628\n",
      "Total number of sentences         n_sent: 17256    ( 2 x 8628 = 17256 )\n",
      "Max words in one sentence  max_sent_wlen: 58\n",
      "Max char in one sentence   max_sent_clen: 368\n",
      "Total number of words            n_words: 178498\n",
      "Total number of vocabulary       n_vocab: 15348\n",
      "Total number of characters        n_char: 1010798\n"
     ]
    }
   ],
   "source": [
    "# Summarize sentence lengths\n",
    "\n",
    "max_sent_clen = max(len(s) for s in sent_all)\n",
    "n_char = sum(len(s) for s in sent_all)\n",
    "\n",
    "# build keras dictionary\n",
    "Ktokenizer = Tokenizer(num_words=N_VOCAB)\n",
    "Ktokenizer.fit_on_texts(sent_all) \n",
    "dict_K = Ktokenizer.word_index\n",
    "n_vocab = len(dict_K)\n",
    "\n",
    "# tokenize sentences and convert words to integers for inputs\n",
    "x_all = Ktokenizer.texts_to_sequences(sent_all)\n",
    "\n",
    "slens = [len(x) for x in x_all] \n",
    "n_words = sum(slens)\n",
    "max_sent_wlen = max(slens)\n",
    "min_sent_wlen = min(slens)\n",
    "\n",
    "print(\"Sentence word length distribution:\")\n",
    "print(\"min %d, max %d, mean %.2f, std %.2f\" % (np.min(slens), np.max(slens), np.mean(slens), np.std(slens)))\n",
    "n = slens.index(min_sent_wlen)\n",
    "print(\"Shortest sentence:\", n, \" -- \", sent_all[n])\n",
    "plt.boxplot(slens)     # boxplot to show distribution of sentence length\n",
    "plt.ylabel('sentence word count')\n",
    "plt.show()\n",
    "plt.hist(slens, bins=max_sent_wlen, range=[0, max_sent_wlen], histtype='step')\n",
    "plt.ylabel('number of sentences')\n",
    "plt.xlabel('sentence word count')\n",
    "plt.show()\n",
    "\n",
    "print(\"Total number of samples           n_data:\", n_data)\n",
    "print(\"Total number of sentences         n_sent:\", n_sent, \"   ( 2 x\", n_data,\"=\",2*n_data,\")\")\n",
    "print(\"Max words in one sentence  max_sent_wlen:\", max_sent_wlen)\n",
    "print(\"Max char in one sentence   max_sent_clen:\", max_sent_clen)\n",
    "print(\"Total number of words            n_words:\", n_words)\n",
    "print(\"Total number of vocabulary       n_vocab:\", n_vocab)\n",
    "print(\"Total number of characters        n_char:\", n_char)"
   ]
  },
  {
   "cell_type": "code",
   "execution_count": 8,
   "metadata": {},
   "outputs": [
    {
     "name": "stdout",
     "output_type": "stream",
     "text": [
      "8628 scores in 181 classes\n",
      "[0.0, 0.067, 0.083, 0.1, 0.118, 0.133, 0.143, 0.167, 0.17, 0.188, 0.2, 0.231, 0.25, 0.267, 0.3, 0.308, 0.333, 0.364, 0.4, 0.417, 0.5, 0.533, 0.538, 0.583, 0.6, 0.636, 0.643, 0.667, 0.67, 0.727, 0.75, 0.778, 0.8, 0.833, 0.85, 0.889, 0.9, 0.944, 1.0, 1.1, 1.154, 1.2, 1.25, 1.273, 1.286, 1.3, 1.33, 1.333, 1.4, 1.5, 1.533, 1.53333333333333, 1.556, 1.583, 1.6, 1.643, 1.667, 1.67, 1.7, 1.714, 1.733, 1.75, 1.778, 1.8, 1.846, 1.9, 1.917, 2.0, 2.11111111111111, 2.167, 2.2, 2.25, 2.33, 2.333, 2.33333333333333, 2.375, 2.4, 2.46666666666667, 2.5, 2.533, 2.583, 2.588, 2.6, 2.615, 2.625, 2.647, 2.667, 2.67, 2.692, 2.7, 2.75, 2.769, 2.8, 2.812, 2.818, 2.83, 2.875, 2.909, 2.917, 3.0, 3.056, 3.067, 3.091, 3.1, 3.111, 3.167, 3.176, 3.182, 3.2, 3.231, 3.25, 3.273, 3.333, 3.33333333333333, 3.4, 3.417, 3.438, 3.444, 3.455, 3.5, 3.533, 3.538, 3.6, 3.615, 3.625, 3.643, 3.667, 3.67, 3.692, 3.714, 3.75, 3.765, 3.769, 3.77777777777778, 3.786, 3.8, 3.824, 3.833, 3.846, 3.857, 3.867, 3.875, 3.909, 3.923, 3.929, 3.933, 3.938, 3.941, 4.0, 4.056, 4.091, 4.1, 4.111, 4.133, 4.176, 4.2, 4.214, 4.222, 4.25, 4.308, 4.33, 4.333, 4.364, 4.4, 4.429, 4.5, 4.571, 4.57142857142857, 4.6, 4.667, 4.727, 4.733, 4.75, 4.778, 4.8, 4.818, 4.857, 4.875, 4.909, 4.923, 5.0]\n"
     ]
    }
   ],
   "source": [
    "# look at scores distribution\n",
    "\n",
    "score_classes = collections.Counter(scores_all)\n",
    "score_classes_sorted = sorted(score_classes)\n",
    "n_score_classes = len(score_classes)\n",
    "print(len(scores_all),\"scores in\",n_score_classes,\"classes\")\n",
    "print(score_classes_sorted)\n",
    "# scores cannot be quantized without modifying data; so treated as real numbers"
   ]
  },
  {
   "cell_type": "code",
   "execution_count": 9,
   "metadata": {},
   "outputs": [
    {
     "data": {
      "image/png": "[encoded data removed]",
      "text/plain": [
       "<matplotlib.figure.Figure at 0x1a16542b70>"
      ]
     },
     "metadata": {},
     "output_type": "display_data"
    },
    {
     "data": {
      "image/png": "[encoded data removed]",
      "text/plain": [
       "<matplotlib.figure.Figure at 0x1a1eac39e8>"
      ]
     },
     "metadata": {},
     "output_type": "display_data"
    },
    {
     "data": {
      "image/png": "[encoded data removed]",
      "text/plain": [
       "<matplotlib.figure.Figure at 0x1a1e724160>"
      ]
     },
     "metadata": {},
     "output_type": "display_data"
    }
   ],
   "source": [
    "plt.hist(scores_trn, bins=5, range=[0, 5.0], histtype='step')\n",
    "plt.title(\"Histogram of scores_trn classes\")\n",
    "plt.show()\n",
    "plt.hist(scores_val, bins=5, range=[0, 5.0], histtype='step')\n",
    "plt.title(\"Histogram of scores_val classes\")\n",
    "plt.show()\n",
    "plt.hist(scores_tes, bins=5, range=[0, 5.0], histtype='step')\n",
    "plt.title(\"Histogram of scores_tes classes\")\n",
    "plt.show()"
   ]
  },
  {
   "cell_type": "markdown",
   "metadata": {},
   "source": [
    "# Load and test pre-trained GloVe embedding"
   ]
  },
  {
   "cell_type": "code",
   "execution_count": 10,
   "metadata": {},
   "outputs": [
    {
     "name": "stdout",
     "output_type": "stream",
     "text": [
      "Reading ./data/glove/glove.6B.50d.txt\n",
      "Loaded 400000 word vectors.\n",
      "eudist : good better always really sure\n",
      "codist : good better really always sure\n"
     ]
    }
   ],
   "source": [
    "# load the whole pre-trained embedding into memory : 400k words_glove, 100-dimension word vectors\n",
    "\n",
    "dict_glove = dict()\n",
    "f = open(fname_glove, 'r', encoding='utf-8')\n",
    "print(\"Reading\", fname_glove)\n",
    "for line in f:\n",
    "    values = line.split()\n",
    "    w = values[0]\n",
    "    wvec = np.asarray(values[1:], dtype='float64')\n",
    "    dict_glove[w] = wvec\n",
    "\n",
    "f.close()\n",
    "n_glove = len(dict_glove)\n",
    "print('Loaded %s word vectors.' % n_glove )\n",
    "\n",
    "\n",
    "# check dictionary by printing nearest words_glove and analogous word\n",
    "\n",
    "words_glove = list(dict_glove.keys())\n",
    "wvec_glove = np.array(list(dict_glove.values()), dtype='float32')\n",
    "\n",
    "vecn = lambda v : v / np.linalg.norm(v)\n",
    "eudist = lambda u, v : np.linalg.norm(u-v)  # euclidean distance, \n",
    "                                            # no need to use this can just compare sum of squares\n",
    "                                            # same result\n",
    "eudist2 = lambda u, v : np.sum((u-v)*(u-v))\n",
    "\n",
    "w2v = lambda w : dict_glove.get(w, unk_vec)\n",
    "\n",
    "norm_glove = np.linalg.norm(wvec_glove, axis=1, keepdims=True)\n",
    "wvecn_glove = wvec_glove / norm_glove\n",
    "\n",
    "def find_nearest_eudist_word(v):\n",
    "    d = [eudist2(wvec_glove[i],v) for i in range(n_glove)]\n",
    "    ds = sorted(range(len(d)), key=d.__getitem__)\n",
    "    return ds[0], ds[1], ds[2], ds[3], ds[4]\n",
    "\n",
    "def find_nearest_codist_word(v):\n",
    "    vn = vecn(v)\n",
    "    d = [np.dot(wvecn_glove[i],vn) for i in range(n_glove)]\n",
    "    ds = sorted(range(len(d)), key=d.__getitem__, reverse=True)\n",
    "    return ds[0], ds[1], ds[2], ds[3], ds[4]\n",
    "\n",
    "\n",
    "v = w2v(\"good\")\n",
    "r1, r2, r3, r4, r5 = find_nearest_eudist_word(v)  \n",
    "print(\"eudist :\", words_glove[r1], words_glove[r2], words_glove[r3], words_glove[r4], words_glove[r5])\n",
    "r1, r2, r3, r4, r5 = find_nearest_codist_word(v)  \n",
    "print(\"codist :\", words_glove[r1], words_glove[r2], words_glove[r3], words_glove[r4], words_glove[r5])"
   ]
  },
  {
   "cell_type": "markdown",
   "metadata": {},
   "source": [
    "# Prepare embedding matrix and format input data \n",
    "\n",
    "(for use as weights in Keras embedding layer)"
   ]
  },
  {
   "cell_type": "code",
   "execution_count": 11,
   "metadata": {},
   "outputs": [
    {
     "name": "stdout",
     "output_type": "stream",
     "text": [
      "Preparing embedding matrix.\n"
     ]
    }
   ],
   "source": [
    "# Prepare embedding\n",
    "print('Preparing embedding matrix.')\n",
    "\n",
    "n_vocab = min(N_VOCAB, len(dict_K))\n",
    "keras_embedding_matrix = np.zeros((n_vocab, EMBED_DIM))\n",
    "\n",
    "for w, i in dict_K.items():\n",
    "    if i >= n_vocab:    # chop of lower frequency words\n",
    "        continue\n",
    "    v = dict_glove.get(w)\n",
    "    if v is not None:\n",
    "        # words not found in embedding index will be all-zeros.\n",
    "        keras_embedding_matrix[i] = v\n",
    "\n"
   ]
  },
  {
   "cell_type": "code",
   "execution_count": 12,
   "metadata": {},
   "outputs": [
    {
     "name": "stdout",
     "output_type": "stream",
     "text": [
      "Format data input\n",
      "x_all_pad: <class 'numpy.ndarray'> (17256, 58)\n",
      "y_all: <class 'numpy.ndarray'> (8628, 1)\n",
      "x1_trn: <class 'numpy.ndarray'> (5749, 58)\n",
      "x1_val: <class 'numpy.ndarray'> (1500, 58)\n",
      "x1_tes: <class 'numpy.ndarray'> (1379, 58)\n",
      "x2_trn: <class 'numpy.ndarray'> (5749, 58)\n",
      "x2_val: <class 'numpy.ndarray'> (1500, 58)\n",
      "x2_tes: <class 'numpy.ndarray'> (1379, 58)\n",
      "y_trn: <class 'numpy.ndarray'> (5749, 1)\n",
      "y_val: <class 'numpy.ndarray'> (1500, 1)\n",
      "y_tes: <class 'numpy.ndarray'> (1379, 1)\n"
     ]
    }
   ],
   "source": [
    "print('Format data input')\n",
    "\n",
    "x_all_pad = pad_sequences(x_all, maxlen=N_SEQ)\n",
    "y_all = np.asarray(scores_all)\n",
    "y_all = np.reshape(y_all,(y_all.shape[0],1))\n",
    "print(\"x_all_pad:\",type(x_all_pad), x_all_pad.shape)\n",
    "print(\"y_all:\",type(y_all), y_all.shape)\n",
    "\n",
    "# Vectorize the text samples into a 2D integer tensor\n",
    "x1_trn = x_all_pad[0:n_trn]\n",
    "x1_val = x_all_pad[n_trn:n_trn+n_val]\n",
    "x1_tes = x_all_pad[n_trn+n_val:n_data]\n",
    "x2_trn = x_all_pad[n_data:n_data+n_trn]\n",
    "x2_val = x_all_pad[n_data+n_trn:n_data+n_trn+n_val]\n",
    "x2_tes = x_all_pad[n_data+n_trn+n_val:n_data*2]\n",
    "\n",
    "# Normalise scores\n",
    "y_all = y_all/5.0\n",
    "y_trn = y_all[0:n_trn]\n",
    "y_val = y_all[n_trn:n_trn+n_val]\n",
    "y_tes = y_all[n_trn+n_val:n_data]\n",
    "\n",
    "# Normalise scores\n",
    "print(\"x1_trn:\",type(x1_trn), x1_trn.shape)\n",
    "print(\"x1_val:\",type(x1_val), x1_val.shape)\n",
    "print(\"x1_tes:\",type(x1_tes), x1_tes.shape)\n",
    "print(\"x2_trn:\",type(x2_trn), x2_trn.shape)\n",
    "print(\"x2_val:\",type(x2_val), x2_val.shape)\n",
    "print(\"x2_tes:\",type(x2_tes), x2_tes.shape)\n",
    "print(\"y_trn:\",type(y_trn), y_trn.shape)\n",
    "print(\"y_val:\",type(y_val), y_val.shape)\n",
    "print(\"y_tes:\",type(y_tes), y_tes.shape)\n"
   ]
  },
  {
   "cell_type": "markdown",
   "metadata": {},
   "source": [
    "# Build model and run"
   ]
  },
  {
   "cell_type": "code",
   "execution_count": 27,
   "metadata": {},
   "outputs": [
    {
     "name": "stdout",
     "output_type": "stream",
     "text": [
      "After embedding layer: (?, 58, 50)\n",
      "After LSTM layer: (?, 512)\n",
      "-------------\n",
      "After embedding layer: (?, 58, 50)\n",
      "After LSTM layer: (?, 512)\n",
      "-------------\n",
      "After subtract layer: (?, 512)\n",
      "Output, after dot layer: (?, 1)\n"
     ]
    }
   ],
   "source": [
    "# load pre-trained word embeddings into an Embedding layer\n",
    "# note that we set trainable = False so as to keep the embeddings fixed\n",
    "\n",
    "LSTMshared = Bidirectional(LSTM(256, name='BiLSTMshared'))\n",
    "inp1 = Input(shape=(N_SEQ,), dtype='int32', name='inp1')\n",
    "x1 = Embedding(n_vocab, EMBED_DIM, weights=[keras_embedding_matrix], input_length=N_SEQ, trainable=False, name='Embedding1')(inp1)\n",
    "print(\"After embedding layer:\", x1.shape)\n",
    "x1 = LSTMshared(x1)\n",
    "print(\"After LSTM layer:\", x1.shape)\n",
    "x1 = Dropout(0.2, name='dropout1')(x1)\n",
    "\n",
    "print(\"-------------\")\n",
    "inp2 = Input(shape=(N_SEQ,), dtype='int32', name='inp2')\n",
    "x2 = Embedding(n_vocab, EMBED_DIM, weights=[keras_embedding_matrix], input_length=N_SEQ, trainable=False, name='Embedding2')(inp2)\n",
    "print(\"After embedding layer:\", x2.shape)\n",
    "x2 = LSTMshared(x2)\n",
    "print(\"After LSTM layer:\", x2.shape)\n",
    "x2 = Dropout(0.2, name='dropout2')(x2)\n",
    "\n",
    "print(\"-------------\")\n",
    "d = keras.layers.Subtract()([x1, x2])\n",
    "print(\"After subtract layer:\", d.shape)\n",
    "output = keras.layers.dot([x1, x2], axes=1, normalize=True, name='dot')\n",
    "print(\"Output, after dot layer:\", output.shape)\n"
   ]
  },
  {
   "cell_type": "code",
   "execution_count": 28,
   "metadata": {},
   "outputs": [
    {
     "name": "stdout",
     "output_type": "stream",
     "text": [
      "____________________________________________________________________________________________________\n",
      "Layer (type)                     Output Shape          Param #     Connected to                     \n",
      "====================================================================================================\n",
      "inp1 (InputLayer)                (None, 58)            0                                            \n",
      "____________________________________________________________________________________________________\n",
      "inp2 (InputLayer)                (None, 58)            0                                            \n",
      "____________________________________________________________________________________________________\n",
      "Embedding1 (Embedding)           (None, 58, 50)        767400      inp1[0][0]                       \n",
      "____________________________________________________________________________________________________\n",
      "Embedding2 (Embedding)           (None, 58, 50)        767400      inp2[0][0]                       \n",
      "____________________________________________________________________________________________________\n",
      "bidirectional_2 (Bidirectional)  (None, 512)           628736      Embedding1[0][0]                 \n",
      "                                                                   Embedding2[0][0]                 \n",
      "____________________________________________________________________________________________________\n",
      "dropout1 (Dropout)               (None, 512)           0           bidirectional_2[0][0]            \n",
      "____________________________________________________________________________________________________\n",
      "dropout2 (Dropout)               (None, 512)           0           bidirectional_2[1][0]            \n",
      "____________________________________________________________________________________________________\n",
      "dot (Dot)                        (None, 1)             0           dropout1[0][0]                   \n",
      "                                                                   dropout2[0][0]                   \n",
      "====================================================================================================\n",
      "Total params: 2,163,536\n",
      "Trainable params: 628,736\n",
      "Non-trainable params: 1,534,800\n",
      "____________________________________________________________________________________________________\n"
     ]
    }
   ],
   "source": [
    "model = keras.models.Model(inputs=[inp1, inp2], outputs=output)\n",
    "model.summary()"
   ]
  },
  {
   "cell_type": "code",
   "execution_count": 29,
   "metadata": {
    "collapsed": true
   },
   "outputs": [],
   "source": [
    "# define pearson correlation as model metric\n",
    "\n",
    "def pearson_corr(a, b):\n",
    "\n",
    "    a_mean = K.mean(a)\n",
    "    b_mean = K.mean(b)\n",
    "    a_diff = a - a_mean\n",
    "    b_diff = b - b_mean\n",
    "\n",
    "    pcorr = K.sum(a_diff*b_diff)/K.sqrt(K.sum(a_diff*a_diff))/K.sqrt(K.sum(b_diff*b_diff))\n",
    "    \n",
    "    return pcorr\n"
   ]
  },
  {
   "cell_type": "code",
   "execution_count": 30,
   "metadata": {
    "collapsed": true
   },
   "outputs": [],
   "source": [
    "model.compile(loss=keras.losses.mean_squared_error,\n",
    "              optimizer=keras.optimizers.Adadelta(),\n",
    "              metrics=[pearson_corr])"
   ]
  },
  {
   "cell_type": "code",
   "execution_count": null,
   "metadata": {
    "collapsed": true
   },
   "outputs": [],
   "source": []
  },
  {
   "cell_type": "code",
   "execution_count": null,
   "metadata": {
    "collapsed": true
   },
   "outputs": [],
   "source": []
  },
  {
   "cell_type": "code",
   "execution_count": 31,
   "metadata": {
    "collapsed": true
   },
   "outputs": [],
   "source": [
    "# define the checkpoint\n",
    "fname_checkpoints =\"./checkpoints/weights-improvement-{epoch:02d}-{loss:.4f}-RNN-sts.hdf5\"\n",
    "checkpoint = ModelCheckpoint(fname_checkpoints, monitor='loss', verbose=1, save_best_only=True, mode='min')\n",
    "callbacks_list = [checkpoint]"
   ]
  },
  {
   "cell_type": "code",
   "execution_count": 32,
   "metadata": {},
   "outputs": [
    {
     "name": "stdout",
     "output_type": "stream",
     "text": [
      "Train on 5749 samples, validate on 1500 samples\n",
      "Epoch 1/30\n",
      "5744/5749 [============================>.] - ETA: 0s - loss: 0.0646 - pearson_corr: 0.5252Epoch 00000: loss improved from inf to 0.06466, saving model to ./checkpoints/weights-improvement-00-0.0647-RNN-sts.hdf5\n",
      "5749/5749 [==============================] - 331s - loss: 0.0647 - pearson_corr: 0.5250 - val_loss: 0.0954 - val_pearson_corr: 0.5083\n",
      "Epoch 2/30\n",
      "5744/5749 [============================>.] - ETA: 0s - loss: 0.0513 - pearson_corr: 0.6246Epoch 00001: loss improved from 0.06466 to 0.05127, saving model to ./checkpoints/weights-improvement-01-0.0513-RNN-sts.hdf5\n",
      "5749/5749 [==============================] - 333s - loss: 0.0513 - pearson_corr: 0.6247 - val_loss: 0.0936 - val_pearson_corr: 0.5684\n",
      "Epoch 3/30\n",
      "5744/5749 [============================>.] - ETA: 0s - loss: 0.0453 - pearson_corr: 0.6771Epoch 00002: loss improved from 0.05127 to 0.04531, saving model to ./checkpoints/weights-improvement-02-0.0453-RNN-sts.hdf5\n",
      "5749/5749 [==============================] - 318s - loss: 0.0453 - pearson_corr: 0.6772 - val_loss: 0.0826 - val_pearson_corr: 0.5792\n",
      "Epoch 4/30\n",
      "5744/5749 [============================>.] - ETA: 0s - loss: 0.0426 - pearson_corr: 0.6942Epoch 00003: loss improved from 0.04531 to 0.04262, saving model to ./checkpoints/weights-improvement-03-0.0426-RNN-sts.hdf5\n",
      "5749/5749 [==============================] - 320s - loss: 0.0426 - pearson_corr: 0.6940 - val_loss: 0.0732 - val_pearson_corr: 0.6093\n",
      "Epoch 5/30\n",
      "5744/5749 [============================>.] - ETA: 0s - loss: 0.0400 - pearson_corr: 0.7258Epoch 00004: loss improved from 0.04262 to 0.03998, saving model to ./checkpoints/weights-improvement-04-0.0400-RNN-sts.hdf5\n",
      "5749/5749 [==============================] - 323s - loss: 0.0400 - pearson_corr: 0.7257 - val_loss: 0.0695 - val_pearson_corr: 0.6204\n",
      "Epoch 6/30\n",
      "5744/5749 [============================>.] - ETA: 0s - loss: 0.0383 - pearson_corr: 0.7381Epoch 00005: loss improved from 0.03998 to 0.03832, saving model to ./checkpoints/weights-improvement-05-0.0383-RNN-sts.hdf5\n",
      "5749/5749 [==============================] - 333s - loss: 0.0383 - pearson_corr: 0.7382 - val_loss: 0.0783 - val_pearson_corr: 0.5952\n",
      "Epoch 7/30\n",
      "5744/5749 [============================>.] - ETA: 0s - loss: 0.0371 - pearson_corr: 0.7475Epoch 00006: loss improved from 0.03832 to 0.03706, saving model to ./checkpoints/weights-improvement-06-0.0371-RNN-sts.hdf5\n",
      "5749/5749 [==============================] - 320s - loss: 0.0371 - pearson_corr: 0.7477 - val_loss: 0.0843 - val_pearson_corr: 0.5923\n",
      "Epoch 8/30\n",
      "5744/5749 [============================>.] - ETA: 0s - loss: 0.0363 - pearson_corr: 0.7521Epoch 00007: loss improved from 0.03706 to 0.03625, saving model to ./checkpoints/weights-improvement-07-0.0362-RNN-sts.hdf5\n",
      "5749/5749 [==============================] - 331s - loss: 0.0362 - pearson_corr: 0.7523 - val_loss: 0.0675 - val_pearson_corr: 0.6142\n",
      "Epoch 9/30\n",
      "5744/5749 [============================>.] - ETA: 0s - loss: 0.0354 - pearson_corr: 0.7582Epoch 00008: loss improved from 0.03625 to 0.03538, saving model to ./checkpoints/weights-improvement-08-0.0354-RNN-sts.hdf5\n",
      "5749/5749 [==============================] - 326s - loss: 0.0354 - pearson_corr: 0.7582 - val_loss: 0.0756 - val_pearson_corr: 0.5942\n",
      "Epoch 10/30\n",
      "5744/5749 [============================>.] - ETA: 0s - loss: 0.0344 - pearson_corr: 0.7660Epoch 00009: loss improved from 0.03538 to 0.03448, saving model to ./checkpoints/weights-improvement-09-0.0345-RNN-sts.hdf5\n",
      "5749/5749 [==============================] - 321s - loss: 0.0345 - pearson_corr: 0.7647 - val_loss: 0.0680 - val_pearson_corr: 0.6309\n",
      "Epoch 11/30\n",
      "5744/5749 [============================>.] - ETA: 0s - loss: 0.0337 - pearson_corr: 0.7647Epoch 00010: loss improved from 0.03448 to 0.03369, saving model to ./checkpoints/weights-improvement-10-0.0337-RNN-sts.hdf5\n",
      "5749/5749 [==============================] - 326s - loss: 0.0337 - pearson_corr: 0.7648 - val_loss: 0.0673 - val_pearson_corr: 0.6184\n",
      "Epoch 12/30\n",
      "5744/5749 [============================>.] - ETA: 0s - loss: 0.0331 - pearson_corr: 0.7814Epoch 00011: loss improved from 0.03369 to 0.03311, saving model to ./checkpoints/weights-improvement-11-0.0331-RNN-sts.hdf5\n",
      "5749/5749 [==============================] - 324s - loss: 0.0331 - pearson_corr: 0.7815 - val_loss: 0.0648 - val_pearson_corr: 0.6265\n",
      "Epoch 13/30\n",
      "5744/5749 [============================>.] - ETA: 0s - loss: 0.0327 - pearson_corr: 0.7817Epoch 00012: loss improved from 0.03311 to 0.03273, saving model to ./checkpoints/weights-improvement-12-0.0327-RNN-sts.hdf5\n",
      "5749/5749 [==============================] - 329s - loss: 0.0327 - pearson_corr: 0.7818 - val_loss: 0.0761 - val_pearson_corr: 0.6035\n",
      "Epoch 14/30\n",
      "5744/5749 [============================>.] - ETA: 0s - loss: 0.0320 - pearson_corr: 0.7856Epoch 00013: loss improved from 0.03273 to 0.03200, saving model to ./checkpoints/weights-improvement-13-0.0320-RNN-sts.hdf5\n",
      "5749/5749 [==============================] - 317s - loss: 0.0320 - pearson_corr: 0.7850 - val_loss: 0.0706 - val_pearson_corr: 0.6013\n",
      "Epoch 15/30\n",
      "5744/5749 [============================>.] - ETA: 0s - loss: 0.0314 - pearson_corr: 0.7941Epoch 00014: loss improved from 0.03200 to 0.03136, saving model to ./checkpoints/weights-improvement-14-0.0314-RNN-sts.hdf5\n",
      "5749/5749 [==============================] - 317s - loss: 0.0314 - pearson_corr: 0.7942 - val_loss: 0.0666 - val_pearson_corr: 0.6121\n",
      "Epoch 16/30\n",
      "5744/5749 [============================>.] - ETA: 0s - loss: 0.0307 - pearson_corr: 0.7955Epoch 00015: loss improved from 0.03136 to 0.03076, saving model to ./checkpoints/weights-improvement-15-0.0308-RNN-sts.hdf5\n",
      "5749/5749 [==============================] - 315s - loss: 0.0308 - pearson_corr: 0.7956 - val_loss: 0.0662 - val_pearson_corr: 0.6110\n",
      "Epoch 17/30\n",
      "5744/5749 [============================>.] - ETA: 0s - loss: 0.0307 - pearson_corr: 0.8004Epoch 00016: loss improved from 0.03076 to 0.03070, saving model to ./checkpoints/weights-improvement-16-0.0307-RNN-sts.hdf5\n",
      "5749/5749 [==============================] - 318s - loss: 0.0307 - pearson_corr: 0.8005 - val_loss: 0.0647 - val_pearson_corr: 0.6201\n",
      "Epoch 18/30\n",
      "5744/5749 [============================>.] - ETA: 0s - loss: 0.0301 - pearson_corr: 0.8055Epoch 00017: loss improved from 0.03070 to 0.03014, saving model to ./checkpoints/weights-improvement-17-0.0301-RNN-sts.hdf5\n",
      "5749/5749 [==============================] - 322s - loss: 0.0301 - pearson_corr: 0.8052 - val_loss: 0.0651 - val_pearson_corr: 0.6151\n",
      "Epoch 19/30\n",
      "5744/5749 [============================>.] - ETA: 0s - loss: 0.0295 - pearson_corr: 0.8075Epoch 00018: loss improved from 0.03014 to 0.02952, saving model to ./checkpoints/weights-improvement-18-0.0295-RNN-sts.hdf5\n",
      "5749/5749 [==============================] - 319s - loss: 0.0295 - pearson_corr: 0.8076 - val_loss: 0.0647 - val_pearson_corr: 0.6227\n",
      "Epoch 20/30\n",
      "5744/5749 [============================>.] - ETA: 0s - loss: 0.0293 - pearson_corr: 0.8088Epoch 00019: loss improved from 0.02952 to 0.02935, saving model to ./checkpoints/weights-improvement-19-0.0293-RNN-sts.hdf5\n",
      "5749/5749 [==============================] - 314s - loss: 0.0293 - pearson_corr: 0.8087 - val_loss: 0.0644 - val_pearson_corr: 0.6242\n",
      "Epoch 21/30\n",
      "5744/5749 [============================>.] - ETA: 0s - loss: 0.0288 - pearson_corr: 0.8131Epoch 00020: loss improved from 0.02935 to 0.02881, saving model to ./checkpoints/weights-improvement-20-0.0288-RNN-sts.hdf5\n",
      "5749/5749 [==============================] - 320s - loss: 0.0288 - pearson_corr: 0.8129 - val_loss: 0.0700 - val_pearson_corr: 0.6009\n",
      "Epoch 22/30\n",
      "5744/5749 [============================>.] - ETA: 0s - loss: 0.0284 - pearson_corr: 0.8171Epoch 00021: loss improved from 0.02881 to 0.02834, saving model to ./checkpoints/weights-improvement-21-0.0283-RNN-sts.hdf5\n",
      "5749/5749 [==============================] - 322s - loss: 0.0283 - pearson_corr: 0.8172 - val_loss: 0.0719 - val_pearson_corr: 0.5899\n",
      "Epoch 23/30\n",
      "5744/5749 [============================>.] - ETA: 0s - loss: 0.0280 - pearson_corr: 0.8146Epoch 00022: loss improved from 0.02834 to 0.02803, saving model to ./checkpoints/weights-improvement-22-0.0280-RNN-sts.hdf5\n"
     ]
    },
    {
     "name": "stdout",
     "output_type": "stream",
     "text": [
      "5749/5749 [==============================] - 321s - loss: 0.0280 - pearson_corr: 0.8147 - val_loss: 0.0613 - val_pearson_corr: 0.6218\n",
      "Epoch 24/30\n",
      "5744/5749 [============================>.] - ETA: 0s - loss: 0.0278 - pearson_corr: 0.8242Epoch 00023: loss improved from 0.02803 to 0.02780, saving model to ./checkpoints/weights-improvement-23-0.0278-RNN-sts.hdf5\n",
      "5749/5749 [==============================] - 319s - loss: 0.0278 - pearson_corr: 0.8242 - val_loss: 0.0672 - val_pearson_corr: 0.6047\n",
      "Epoch 25/30\n",
      "5744/5749 [============================>.] - ETA: 0s - loss: 0.0275 - pearson_corr: 0.8278Epoch 00024: loss improved from 0.02780 to 0.02746, saving model to ./checkpoints/weights-improvement-24-0.0275-RNN-sts.hdf5\n",
      "5749/5749 [==============================] - 320s - loss: 0.0275 - pearson_corr: 0.8280 - val_loss: 0.0699 - val_pearson_corr: 0.6053\n",
      "Epoch 26/30\n",
      "5744/5749 [============================>.] - ETA: 0s - loss: 0.0269 - pearson_corr: 0.8301Epoch 00025: loss improved from 0.02746 to 0.02690, saving model to ./checkpoints/weights-improvement-25-0.0269-RNN-sts.hdf5\n",
      "5749/5749 [==============================] - 317s - loss: 0.0269 - pearson_corr: 0.8301 - val_loss: 0.0648 - val_pearson_corr: 0.6161\n",
      "Epoch 27/30\n",
      "5744/5749 [============================>.] - ETA: 0s - loss: 0.0267 - pearson_corr: 0.8292Epoch 00026: loss improved from 0.02690 to 0.02665, saving model to ./checkpoints/weights-improvement-26-0.0267-RNN-sts.hdf5\n",
      "5749/5749 [==============================] - 315s - loss: 0.0267 - pearson_corr: 0.8293 - val_loss: 0.0646 - val_pearson_corr: 0.6168\n",
      "Epoch 28/30\n",
      "5744/5749 [============================>.] - ETA: 0s - loss: 0.0261 - pearson_corr: 0.8374Epoch 00027: loss improved from 0.02665 to 0.02610, saving model to ./checkpoints/weights-improvement-27-0.0261-RNN-sts.hdf5\n",
      "5749/5749 [==============================] - 313s - loss: 0.0261 - pearson_corr: 0.8376 - val_loss: 0.0652 - val_pearson_corr: 0.6096\n",
      "Epoch 29/30\n",
      "5744/5749 [============================>.] - ETA: 0s - loss: 0.0259 - pearson_corr: 0.8391Epoch 00028: loss improved from 0.02610 to 0.02584, saving model to ./checkpoints/weights-improvement-28-0.0258-RNN-sts.hdf5\n",
      "5749/5749 [==============================] - 314s - loss: 0.0258 - pearson_corr: 0.8392 - val_loss: 0.0638 - val_pearson_corr: 0.6099\n",
      "Epoch 30/30\n",
      "5744/5749 [============================>.] - ETA: 0s - loss: 0.0256 - pearson_corr: 0.8397Epoch 00029: loss improved from 0.02584 to 0.02555, saving model to ./checkpoints/weights-improvement-29-0.0255-RNN-sts.hdf5\n",
      "5749/5749 [==============================] - 314s - loss: 0.0255 - pearson_corr: 0.8396 - val_loss: 0.0659 - val_pearson_corr: 0.6044\n"
     ]
    }
   ],
   "source": [
    "batch_size = 16\n",
    "epochs = 30\n",
    "hist = model.fit([x1_trn, x2_trn], y_trn,\n",
    "          batch_size=batch_size,\n",
    "          epochs=epochs,\n",
    "          verbose=1,\n",
    "          callbacks = callbacks_list,\n",
    "          validation_data=([x1_val, x2_val], y_val))"
   ]
  },
  {
   "cell_type": "code",
   "execution_count": 33,
   "metadata": {
    "collapsed": true
   },
   "outputs": [],
   "source": [
    "model.save(fname_model)"
   ]
  },
  {
   "cell_type": "code",
   "execution_count": 25,
   "metadata": {
    "collapsed": true
   },
   "outputs": [],
   "source": [
    "model = load_model(fname_model)"
   ]
  },
  {
   "cell_type": "code",
   "execution_count": null,
   "metadata": {},
   "outputs": [],
   "source": [
    "batch_size = 16\n",
    "epochs = 30\n",
    "hist = model.fit([x1_trn, x2_trn], y_trn,\n",
    "          batch_size=batch_size,\n",
    "          epochs=epochs,\n",
    "          verbose=1,\n",
    "          callbacks = callbacks_list,\n",
    "          validation_data=([x1_val, x2_val], y_val))"
   ]
  },
  {
   "cell_type": "code",
   "execution_count": 35,
   "metadata": {},
   "outputs": [
    {
     "data": {
      "image/png": "[encoded data removed]",
      "text/plain": [
       "<matplotlib.figure.Figure at 0x1a3efaa2e8>"
      ]
     },
     "metadata": {},
     "output_type": "display_data"
    },
    {
     "data": {
      "image/png": "[encoded data removed]",
      "text/plain": [
       "<matplotlib.figure.Figure at 0x1a1ebb0c18>"
      ]
     },
     "metadata": {},
     "output_type": "display_data"
    }
   ],
   "source": [
    "def plot_train(hist,metric):\n",
    "    h = hist.history\n",
    "    if metric=='pearson_corr':\n",
    "        meas='pearson_corr'\n",
    "        loc='lower right'\n",
    "    else:\n",
    "        meas='loss'\n",
    "        loc='upper right'\n",
    "    plt.plot(hist.history[meas])\n",
    "    plt.plot(hist.history['val_'+meas])\n",
    "    plt.title('model '+meas)\n",
    "    plt.ylabel(meas)\n",
    "    plt.xlabel('epoch')\n",
    "    plt.legend(['train', 'validation'], loc=loc)\n",
    "    plt.show()\n",
    "    \n",
    "plot_train(hist,'pearson_corr')\n",
    "plot_train(hist,'loss')\n"
   ]
  },
  {
   "cell_type": "code",
   "execution_count": null,
   "metadata": {},
   "outputs": [],
   "source": [
    "# Evaluate model with test data set and share sample prediction results\n",
    "evaluation = model.evaluate([x1_tes, x2_tes], y_tes)\n",
    "print(\"\")\n",
    "print('Model mean squared error = %.2f' % (evaluation[0]))\n",
    "print('Model pearson correlation = %.2f' % (evaluation[1]))\n"
   ]
  },
  {
   "attachments": {
    "image.png": {
     "image/png": "[encoded data removed]"
    }
   },
   "cell_type": "markdown",
   "metadata": {
    "collapsed": true
   },
   "source": [
    "# Results for model 1 : shared LSTM\n",
    "\n",
    "\n",
    "    LSTMshared = LSTM(128, name='LSTMshared')\n",
    "    inp1 = Input(shape=(N_SEQ,), dtype='int32', name='inp1')\n",
    "    x1 = Embedding(n_vocab, \n",
    "                   EMBED_DIM, \n",
    "                   weights=[keras_embedding_matrix],\n",
    "                   input_length=N_SEQ, \n",
    "                   trainable=False, \n",
    "                   name='Embedding1')(inp1)\n",
    "    x1 = LSTMshared(x1)\n",
    "    x1 = Dropout(0.2, name='dropout1')(x1)\n",
    "\n",
    "    inp2 = Input(shape=(N_SEQ,), dtype='int32', name='inp2')\n",
    "    x2 = Embedding(n_vocab, \n",
    "                   EMBED_DIM, \n",
    "                   weights=[keras_embedding_matrix],\n",
    "                   input_length=N_SEQ, \n",
    "                   trainable=False, \n",
    "                   name='Embedding1')(inp2)\n",
    "    x2 = LSTMshared(x2)\n",
    "    x2 = Dropout(0.2, name='dropout2')(x2)\n",
    "\n",
    "    d = keras.layers.Subtract()([x1, x2])\n",
    "    output = keras.layers.dot([x1, x2], \n",
    "                              axes=1,\n",
    "                              normalize=True,\n",
    "                              name='dot')\n",
    "\n",
    "    __________________________________________________________________\n",
    "    Layer (type)          Output Shape       Param #    Connected to                     \n",
    "    ==================================================================\n",
    "    inp1 (InputLayer)    (None, 58)          0                        \n",
    "    __________________________________________________________________\n",
    "    inp2 (InputLayer)    (None, 58)          0                        \n",
    "    __________________________________________________________________\n",
    "    Embedding1           (None, 58, 50)      767400   inp1[0][0]\n",
    "    (Embedding)    \n",
    "    __________________________________________________________________\n",
    "    Embedding2           (None, 58, 50)      767400   inp2[0][0]\n",
    "    (Embedding) \n",
    "    __________________________________________________________________\n",
    "    LSTMshared (LSTM)    (None, 128)         91648   Embedding1[0][0]\n",
    "                                                     Embedding2[0][0]\n",
    "    __________________________________________________________________\n",
    "    dropout1 (Dropout)   (None, 128)         0       LSTMshared[0][0]\n",
    "    __________________________________________________________________\n",
    "    dropout2 (Dropout)  (None, 128)          0       LSTMshared[1][0] \n",
    "    __________________________________________________________________\n",
    "    dot (Dot)           (None, 1)            0       dropout1[0][0]\n",
    "                                                     dropout2[0][0]\n",
    "    ==================================================================\n",
    "    Total params: 1,626,448\n",
    "    Trainable params: 91,648\n",
    "    Non-trainable params: 1,534,800\n",
    "    \n",
    "    \n",
    "![image.png](attachment:image.png)\n"
   ]
  },
  {
   "attachments": {
    "image.png": {
     "image/png": "[encoded data removed]"
    }
   },
   "cell_type": "markdown",
   "metadata": {},
   "source": [
    "![image.png](attachment:image.png)"
   ]
  },
  {
   "attachments": {
    "image.png": {
     "image/png": "[encoded data removed]"
    }
   },
   "cell_type": "markdown",
   "metadata": {
    "collapsed": true
   },
   "source": [
    "# Results for model 2 : with Bidirectional LSTM\n",
    "\n",
    "\n",
    "    LSTMshared = Bidirectional(LSTM(256, name='BiLSTMshared'))\n",
    "    inp1 = Input(shape=(N_SEQ,), dtype='int32', name='inp1')\n",
    "    x1 = Embedding(n_vocab, \n",
    "                   EMBED_DIM, \n",
    "                   weights=[keras_embedding_matrix], \n",
    "                   input_length=N_SEQ, \n",
    "                   trainable=False, \n",
    "                   name='Embedding1')(inp1)\n",
    "    x1 = LSTMshared(x1)\n",
    "    x1 = Dropout(0.2, name='dropout1')(x1)\n",
    "\n",
    "    inp2 = Input(shape=(N_SEQ,), dtype='int32', name='inp2')\n",
    "    x2 = Embedding(n_vocab,\n",
    "                   EMBED_DIM,\n",
    "                   weights=[keras_embedding_matrix],\n",
    "                   input_length=N_SEQ, \n",
    "                   trainable=False, \n",
    "                   name='Embedding2')(inp2)\n",
    "    x2 = LSTMshared(x2)\n",
    "    x2 = Dropout(0.2, name='dropout2')(x2)\n",
    "\n",
    "    d = keras.layers.Subtract()([x1, x2])\n",
    "    print(\"After subtract layer:\", d.shape)\n",
    "    output = keras.layers.dot([x1, x2],\n",
    "                               axes=1, \n",
    "                               normalize=True, \n",
    "                               name='dot')\n",
    "\n",
    "    \n",
    "     ________________________________________________________________\n",
    "    Layer (type)          Output Shape       Param #    Connected to                    \n",
    "    =================================================================\n",
    "    inp1 (InputLayer)    (None, 58)          0                        \n",
    "    _________________________________________________________________\n",
    "    inp2 (InputLayer)    (None, 58)          0                        \n",
    "    _________________________________________________________________\n",
    "    Embedding1           (None, 58, 50)      767400   inp1[0][0]\n",
    "    (Embedding)    \n",
    "    _________________________________________________________________\n",
    "    Embedding2           (None, 58, 50)      767400   inp2[0][0]\n",
    "    (Embedding) \n",
    "    _________________________________________________________________\n",
    "    bidirectional_2     (None, 512)          628736  Embedding1[0][0]\n",
    "    (Bidirectional)                                  Embedding2[0][0]\n",
    "    _________________________________________________________________\n",
    "    dropout1 (Dropout)   (None, 512)         0       LSTMshared[0][0]\n",
    "    _________________________________________________________________\n",
    "    dropout2 (Dropout)  (None, 512)          0       LSTMshared[1][0] \n",
    "    _________________________________________________________________\n",
    "    dot (Dot)           (None, 1)            0       dropout1[0][0]\n",
    "                                                     dropout2[0][0]\n",
    "    =================================================================\n",
    "    Total params: 2,163,536\n",
    "    Trainable params: 628,736\n",
    "    Non-trainable params: 1,534,800\n",
    "\n",
    "![image.png](attachment:image.png)"
   ]
  },
  {
   "attachments": {
    "image.png": {
     "image/png": "[encoded data removed]"
    }
   },
   "cell_type": "markdown",
   "metadata": {
    "collapsed": true
   },
   "source": [
    "![image.png](attachment:image.png)"
   ]
  },
  {
   "cell_type": "code",
   "execution_count": null,
   "metadata": {
    "collapsed": true
   },
   "outputs": [],
   "source": []
  },
  {
   "cell_type": "markdown",
   "metadata": {
    "collapsed": true
   },
   "source": [
    "Stats when nltk tokenizer was used:\n",
    "\n",
    "    Total number of records    : 8628\n",
    "    Total number of sentences  : 17256    ( 2 x 8628 = 17256 )\n",
    "    Max words in one sentence  : 61\n",
    "    Max char in one sentence   : 368\n",
    "    Total number of words      : 197340\n",
    "    Total number of vocabulary : 18511\n",
    "    Total number of characters : 1028053\n",
    "\n",
    "\n"
   ]
  }
 ],
 "metadata": {
  "kernelspec": {
   "display_name": "Python 3",
   "language": "python",
   "name": "python3"
  },
  "language_info": {
   "codemirror_mode": {
    "name": "ipython",
    "version": 3
   },
   "file_extension": ".py",
   "mimetype": "text/x-python",
   "name": "python",
   "nbconvert_exporter": "python",
   "pygments_lexer": "ipython3",
   "version": "3.6.2"
  }
 },
 "nbformat": 4,
 "nbformat_minor": 2
}
