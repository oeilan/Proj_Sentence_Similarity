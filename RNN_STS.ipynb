{
 "cells": [
  {
   "cell_type": "markdown",
   "metadata": {},
   "source": [
    "# Sentence similarity prediction model\n",
    "\n",
    "This model uses English-English sentence pairs with similarity score data from the Semantic Evaluation competition. Data is downloaded from http://ixa2.si.ehu.es/stswiki/images/4/48/Stsbenchmark.tar.gz\n",
    "\n",
    "The model objective is to predict a similarity score between 0 and 5 given a pair of english sentences, and achieve a high pearson correlation for predicted scores and benchmark scores given in the dataset.\n",
    "\n",
    "This is a first cut model (using keras) to attempt the above objective. \n",
    "\n",
    "Model uses a pretrained Glove embedding to represent words in the sentences.\n",
    "A training sample comprising of a sentence pair is fed into 2 separate networks, one for each sentence. This network has 2 layers: a non-trainable embedding layer followed by a LSTM layer.  \n",
    "The vector output of the LSTM for each sentence is normalized and cosine distance is computed for the 2 unit vectors to generate a similarity score.\n"
   ]
  },
  {
   "cell_type": "markdown",
   "metadata": {},
   "source": [
    "# Imports and Inits"
   ]
  },
  {
   "cell_type": "code",
   "execution_count": 1,
   "metadata": {},
   "outputs": [
    {
     "name": "stderr",
     "output_type": "stream",
     "text": [
      "Using TensorFlow backend.\n"
     ]
    }
   ],
   "source": [
    "%matplotlib inline\n",
    "import matplotlib.pyplot as plt\n",
    "\n",
    "import collections\n",
    "import re\n",
    "import random\n",
    "import numpy as np\n",
    "\n",
    "# from nltk.tokenize import sent_tokenize, word_tokenize\n",
    "import keras\n",
    "from keras.preprocessing.text import Tokenizer\n",
    "from keras.preprocessing.sequence import pad_sequences\n",
    "from keras.models import Sequential, Model, load_model\n",
    "from keras.layers import Dense, LSTM, Dropout, Input, Embedding, Bidirectional\n",
    "from keras.optimizers import RMSprop, Adam\n",
    "from keras import backend as K\n",
    "\n",
    "from keras.callbacks import ModelCheckpoint\n",
    "from keras.utils import np_utils\n",
    "\n",
    "import tensorflow as tf\n"
   ]
  },
  {
   "cell_type": "code",
   "execution_count": 2,
   "metadata": {
    "collapsed": true
   },
   "outputs": [],
   "source": [
    "N_SEQ = 58\n",
    "N_VOCAB = 100000\n",
    "EMBED_DIM = 50\n",
    "\n",
    "unk_vec = np.zeros(EMBED_DIM)"
   ]
  },
  {
   "cell_type": "code",
   "execution_count": 3,
   "metadata": {},
   "outputs": [
    {
     "name": "stdout",
     "output_type": "stream",
     "text": [
      "./data/glove/glove.6B.50d.txt\n"
     ]
    }
   ],
   "source": [
    "fname_sts_trn = './data/sts_source/sts-train.txt'\n",
    "fname_sts_val = './data/sts_source/sts-dev.txt'\n",
    "fname_sts_tes = './data/sts_source/sts-test.txt'\n",
    "\n",
    "fname_glove = './data/glove/glove.6B.'+str(EMBED_DIM)+'d.txt'\n",
    "fname_model = 'RNN_STS'\n",
    "print(fname_glove)"
   ]
  },
  {
   "cell_type": "markdown",
   "metadata": {},
   "source": [
    "# Data and embedding source\n",
    "\n",
    "Please download dataset and place file in ./data/sts_source/ directory from this link:\n",
    "'http://ixa2.si.ehu.es/stswiki/images/4/48/Stsbenchmark.tar.gz'\n",
    "\n",
    "Description of dataset is found here :\n",
    "http://ixa2.si.ehu.es/stswiki/index.php/STSbenchmark\n",
    "\n",
    "Please download pretrained glove embedding and place file in ./data/glove/ from this link:\n",
    "'http://nlp.stanford.edu/data/glove.6B.zip'"
   ]
  },
  {
   "cell_type": "markdown",
   "metadata": {
    "collapsed": true
   },
   "source": [
    "# Read in sentence pair and score from STS data set\n"
   ]
  },
  {
   "cell_type": "code",
   "execution_count": 4,
   "metadata": {},
   "outputs": [
    {
     "name": "stdout",
     "output_type": "stream",
     "text": [
      "./data/sts_source/sts-train.txt records count: 5749\n",
      "./data/sts_source/sts-dev.txt records count: 1500\n",
      "./data/sts_source/sts-test.txt records count: 1379\n",
      "Total data samples: 8628\n"
     ]
    }
   ],
   "source": [
    "def read_sts(fname):\n",
    "\n",
    "    f = open(fname, 'r', encoding='utf-8')\n",
    "\n",
    "    i = 0\n",
    "    scores = []\n",
    "    sentences1 = []\n",
    "    sentences2 = []\n",
    "    while True:\n",
    "        l = f.readline()  # read 1 line\n",
    "        if not l:\n",
    "            break\n",
    "\n",
    "        data_fields = l.split(\"\\t\")\n",
    "        scores.append(float(data_fields[4]))\n",
    "        sentences1.append(data_fields[5])\n",
    "        sentences2.append(data_fields[6])\n",
    "        i = i + 1\n",
    "    \n",
    "        \n",
    "    f.close()\n",
    "    print(fname,\"records count:\",i)\n",
    "\n",
    "    return i, scores, sentences1, sentences2\n",
    "\n",
    "# read data files and obtain lists of sentences\n",
    "n_trn, scores_trn, sentences1_trn, sentences2_trn = read_sts(fname_sts_trn)\n",
    "n_val, scores_val, sentences1_val, sentences2_val = read_sts(fname_sts_val)\n",
    "n_tes, scores_tes, sentences1_tes, sentences2_tes = read_sts(fname_sts_tes)\n",
    "print(\"Total data samples:\",n_trn+n_val+n_tes)"
   ]
  },
  {
   "cell_type": "markdown",
   "metadata": {},
   "source": [
    "# Check through dataset\n",
    "\n"
   ]
  },
  {
   "cell_type": "code",
   "execution_count": 5,
   "metadata": {},
   "outputs": [
    {
     "name": "stdout",
     "output_type": "stream",
     "text": [
      "Train Sample 4595 with similarity score 1.4\n",
      "1 : Obama holds talks over Syria action\n",
      "2 : Cameron loses parliamentary vote on Syria military action\n",
      "\n",
      "Validation Sample 1154 with similarity score 3.0\n",
      "1 : The Winston-Salem, North Carolina company opened six stores during the quarter, bringing the total to 282.\n",
      "2 : Six new Krispy Kreme stores were opened in the first quarter, bringing the total number of stores to 282.\n",
      "\n",
      "Test Sample 267 with similarity score 3.6\n",
      "1 : Red and white bus driving down road.\n",
      "2 : A bus drives down a busy road.\n",
      "\n"
     ]
    }
   ],
   "source": [
    "# Visually check data set by printing one random sample from each of trn, val, tes\n",
    "\n",
    "n = int(random.uniform(0,1)*n_trn)\n",
    "print(\"Train Sample\", n, \"with similarity score\", scores_trn[n])\n",
    "print(\"1 :\", sentences1_trn[n])\n",
    "print(\"2 :\", sentences2_trn[n])\n",
    "\n",
    "n = int(random.uniform(0,1)*n_val)\n",
    "print(\"Validation Sample\", n, \"with similarity score\", scores_val[n])\n",
    "print(\"1 :\", sentences1_val[n])\n",
    "print(\"2 :\", sentences2_val[n])\n",
    "\n",
    "n = int(random.uniform(0,1)*n_tes)\n",
    "print(\"Test Sample\", n, \"with similarity score\", scores_tes[n])\n",
    "print(\"1 :\", sentences1_tes[n])\n",
    "print(\"2 :\", sentences2_tes[n])"
   ]
  },
  {
   "cell_type": "code",
   "execution_count": 6,
   "metadata": {
    "collapsed": true
   },
   "outputs": [],
   "source": [
    "# compile certain stats of dataset : max_sentence_len, n_char, n_words, n_vocab\n",
    "\n",
    "scores_all = scores_trn + scores_val + scores_tes\n",
    "n_data = len(scores_all)\n",
    "\n",
    "sent1_all = sentences1_trn + sentences1_val + sentences1_tes\n",
    "sent2_all = sentences2_trn + sentences2_val + sentences2_tes\n",
    "\n",
    "sent_all = sent1_all + sent2_all\n",
    "n_sent = len(sent_all)"
   ]
  },
  {
   "cell_type": "code",
   "execution_count": 7,
   "metadata": {},
   "outputs": [
    {
     "name": "stdout",
     "output_type": "stream",
     "text": [
      "Sentence word length distribution:\n",
      "min 2, max 58, mean 10.34, std 5.58\n",
      "Shortest sentence: 9224  --  Kangaroo eating.\n",
      "\n"
     ]
    },
    {
     "data": {
      "image/png": "[encoded data removed]",
      "text/plain": [
       "<matplotlib.figure.Figure at 0x1a16845198>"
      ]
     },
     "metadata": {},
     "output_type": "display_data"
    },
    {
     "data": {
      "image/png": "[encoded data removed]",
      "text/plain": [
       "<matplotlib.figure.Figure at 0x1a1e720f28>"
      ]
     },
     "metadata": {},
     "output_type": "display_data"
    },
    {
     "name": "stdout",
     "output_type": "stream",
     "text": [
      "Total number of samples           n_data: 8628\n",
      "Total number of sentences         n_sent: 17256    ( 2 x 8628 = 17256 )\n",
      "Max words in one sentence  max_sent_wlen: 58\n",
      "Max char in one sentence   max_sent_clen: 368\n",
      "Total number of words            n_words: 178498\n",
      "Total number of vocabulary       n_vocab: 15348\n",
      "Total number of characters        n_char: 1010798\n"
     ]
    }
   ],
   "source": [
    "# Summarize sentence lengths\n",
    "\n",
    "max_sent_clen = max(len(s) for s in sent_all)\n",
    "n_char = sum(len(s) for s in sent_all)\n",
    "\n",
    "# build keras dictionary\n",
    "Ktokenizer = Tokenizer(num_words=N_VOCAB)\n",
    "Ktokenizer.fit_on_texts(sent_all) \n",
    "dict_K = Ktokenizer.word_index\n",
    "n_vocab = len(dict_K)\n",
    "\n",
    "# tokenize sentences and convert words to integers for inputs\n",
    "x_all = Ktokenizer.texts_to_sequences(sent_all)\n",
    "\n",
    "slens = [len(x) for x in x_all] \n",
    "n_words = sum(slens)\n",
    "max_sent_wlen = max(slens)\n",
    "min_sent_wlen = min(slens)\n",
    "\n",
    "print(\"Sentence word length distribution:\")\n",
    "print(\"min %d, max %d, mean %.2f, std %.2f\" % (np.min(slens), np.max(slens), np.mean(slens), np.std(slens)))\n",
    "n = slens.index(min_sent_wlen)\n",
    "print(\"Shortest sentence:\", n, \" -- \", sent_all[n])\n",
    "plt.boxplot(slens)     # boxplot to show distribution of sentence length\n",
    "plt.ylabel('sentence word count')\n",
    "plt.show()\n",
    "plt.hist(slens, bins=max_sent_wlen, range=[0, max_sent_wlen], histtype='step')\n",
    "plt.ylabel('number of sentences')\n",
    "plt.xlabel('sentence word count')\n",
    "plt.show()\n",
    "\n",
    "print(\"Total number of samples           n_data:\", n_data)\n",
    "print(\"Total number of sentences         n_sent:\", n_sent, \"   ( 2 x\", n_data,\"=\",2*n_data,\")\")\n",
    "print(\"Max words in one sentence  max_sent_wlen:\", max_sent_wlen)\n",
    "print(\"Max char in one sentence   max_sent_clen:\", max_sent_clen)\n",
    "print(\"Total number of words            n_words:\", n_words)\n",
    "print(\"Total number of vocabulary       n_vocab:\", n_vocab)\n",
    "print(\"Total number of characters        n_char:\", n_char)"
   ]
  },
  {
   "cell_type": "code",
   "execution_count": 8,
   "metadata": {},
   "outputs": [
    {
     "name": "stdout",
     "output_type": "stream",
     "text": [
      "8628 scores in 181 classes\n",
      "[0.0, 0.067, 0.083, 0.1, 0.118, 0.133, 0.143, 0.167, 0.17, 0.188, 0.2, 0.231, 0.25, 0.267, 0.3, 0.308, 0.333, 0.364, 0.4, 0.417, 0.5, 0.533, 0.538, 0.583, 0.6, 0.636, 0.643, 0.667, 0.67, 0.727, 0.75, 0.778, 0.8, 0.833, 0.85, 0.889, 0.9, 0.944, 1.0, 1.1, 1.154, 1.2, 1.25, 1.273, 1.286, 1.3, 1.33, 1.333, 1.4, 1.5, 1.533, 1.53333333333333, 1.556, 1.583, 1.6, 1.643, 1.667, 1.67, 1.7, 1.714, 1.733, 1.75, 1.778, 1.8, 1.846, 1.9, 1.917, 2.0, 2.11111111111111, 2.167, 2.2, 2.25, 2.33, 2.333, 2.33333333333333, 2.375, 2.4, 2.46666666666667, 2.5, 2.533, 2.583, 2.588, 2.6, 2.615, 2.625, 2.647, 2.667, 2.67, 2.692, 2.7, 2.75, 2.769, 2.8, 2.812, 2.818, 2.83, 2.875, 2.909, 2.917, 3.0, 3.056, 3.067, 3.091, 3.1, 3.111, 3.167, 3.176, 3.182, 3.2, 3.231, 3.25, 3.273, 3.333, 3.33333333333333, 3.4, 3.417, 3.438, 3.444, 3.455, 3.5, 3.533, 3.538, 3.6, 3.615, 3.625, 3.643, 3.667, 3.67, 3.692, 3.714, 3.75, 3.765, 3.769, 3.77777777777778, 3.786, 3.8, 3.824, 3.833, 3.846, 3.857, 3.867, 3.875, 3.909, 3.923, 3.929, 3.933, 3.938, 3.941, 4.0, 4.056, 4.091, 4.1, 4.111, 4.133, 4.176, 4.2, 4.214, 4.222, 4.25, 4.308, 4.33, 4.333, 4.364, 4.4, 4.429, 4.5, 4.571, 4.57142857142857, 4.6, 4.667, 4.727, 4.733, 4.75, 4.778, 4.8, 4.818, 4.857, 4.875, 4.909, 4.923, 5.0]\n"
     ]
    }
   ],
   "source": [
    "# look at scores distribution\n",
    "\n",
    "score_classes = collections.Counter(scores_all)\n",
    "score_classes_sorted = sorted(score_classes)\n",
    "n_score_classes = len(score_classes)\n",
    "print(len(scores_all),\"scores in\",n_score_classes,\"classes\")\n",
    "print(score_classes_sorted)\n",
    "# scores cannot be quantized without modifying data; so treated as real numbers"
   ]
  },
  {
   "cell_type": "code",
   "execution_count": 9,
   "metadata": {},
   "outputs": [
    {
     "data": {
      "image/png": "[encoded data removed]",
      "text/plain": [
       "<matplotlib.figure.Figure at 0x1a16542b70>"
      ]
     },
     "metadata": {},
     "output_type": "display_data"
    },
    {
     "data": {
      "image/png": "[encoded data removed]",
      "text/plain": [
       "<matplotlib.figure.Figure at 0x1a1eac39e8>"
      ]
     },
     "metadata": {},
     "output_type": "display_data"
    },
    {
     "data": {
      "image/png": "[encoded data removed]",
      "text/plain": [
       "<matplotlib.figure.Figure at 0x1a1e724160>"
      ]
     },
     "metadata": {},
     "output_type": "display_data"
    }
   ],
   "source": [
    "plt.hist(scores_trn, bins=5, range=[0, 5.0], histtype='step')\n",
    "plt.title(\"Histogram of scores_trn classes\")\n",
    "plt.show()\n",
    "plt.hist(scores_val, bins=5, range=[0, 5.0], histtype='step')\n",
    "plt.title(\"Histogram of scores_val classes\")\n",
    "plt.show()\n",
    "plt.hist(scores_tes, bins=5, range=[0, 5.0], histtype='step')\n",
    "plt.title(\"Histogram of scores_tes classes\")\n",
    "plt.show()"
   ]
  },
  {
   "cell_type": "markdown",
   "metadata": {},
   "source": [
    "# Load and test pre-trained GloVe embedding"
   ]
  },
  {
   "cell_type": "code",
   "execution_count": 10,
   "metadata": {},
   "outputs": [
    {
     "name": "stdout",
     "output_type": "stream",
     "text": [
      "Reading ./data/glove/glove.6B.50d.txt\n",
      "Loaded 400000 word vectors.\n",
      "eudist : good better always really sure\n",
      "codist : good better really always sure\n"
     ]
    }
   ],
   "source": [
    "# load the whole pre-trained embedding into memory : 400k words_glove, 100-dimension word vectors\n",
    "\n",
    "dict_glove = dict()\n",
    "f = open(fname_glove, 'r', encoding='utf-8')\n",
    "print(\"Reading\", fname_glove)\n",
    "for line in f:\n",
    "    values = line.split()\n",
    "    w = values[0]\n",
    "    wvec = np.asarray(values[1:], dtype='float64')\n",
    "    dict_glove[w] = wvec\n",
    "\n",
    "f.close()\n",
    "n_glove = len(dict_glove)\n",
    "print('Loaded %s word vectors.' % n_glove )\n",
    "\n",
    "\n",
    "# check dictionary by printing nearest words_glove and analogous word\n",
    "\n",
    "words_glove = list(dict_glove.keys())\n",
    "wvec_glove = np.array(list(dict_glove.values()), dtype='float32')\n",
    "\n",
    "vecn = lambda v : v / np.linalg.norm(v)\n",
    "eudist = lambda u, v : np.linalg.norm(u-v)  # euclidean distance, \n",
    "                                            # no need to use this can just compare sum of squares\n",
    "                                            # same result\n",
    "eudist2 = lambda u, v : np.sum((u-v)*(u-v))\n",
    "\n",
    "w2v = lambda w : dict_glove.get(w, unk_vec)\n",
    "\n",
    "norm_glove = np.linalg.norm(wvec_glove, axis=1, keepdims=True)\n",
    "wvecn_glove = wvec_glove / norm_glove\n",
    "\n",
    "def find_nearest_eudist_word(v):\n",
    "    d = [eudist2(wvec_glove[i],v) for i in range(n_glove)]\n",
    "    ds = sorted(range(len(d)), key=d.__getitem__)\n",
    "    return ds[0], ds[1], ds[2], ds[3], ds[4]\n",
    "\n",
    "def find_nearest_codist_word(v):\n",
    "    vn = vecn(v)\n",
    "    d = [np.dot(wvecn_glove[i],vn) for i in range(n_glove)]\n",
    "    ds = sorted(range(len(d)), key=d.__getitem__, reverse=True)\n",
    "    return ds[0], ds[1], ds[2], ds[3], ds[4]\n",
    "\n",
    "\n",
    "v = w2v(\"good\")\n",
    "r1, r2, r3, r4, r5 = find_nearest_eudist_word(v)  \n",
    "print(\"eudist :\", words_glove[r1], words_glove[r2], words_glove[r3], words_glove[r4], words_glove[r5])\n",
    "r1, r2, r3, r4, r5 = find_nearest_codist_word(v)  \n",
    "print(\"codist :\", words_glove[r1], words_glove[r2], words_glove[r3], words_glove[r4], words_glove[r5])"
   ]
  },
  {
   "cell_type": "markdown",
   "metadata": {},
   "source": [
    "# Prepare embedding matrix and format input data \n",
    "\n",
    "(for use as weights in Keras embedding layer)"
   ]
  },
  {
   "cell_type": "code",
   "execution_count": 11,
   "metadata": {},
   "outputs": [
    {
     "name": "stdout",
     "output_type": "stream",
     "text": [
      "Preparing embedding matrix.\n"
     ]
    }
   ],
   "source": [
    "# Prepare embedding\n",
    "print('Preparing embedding matrix.')\n",
    "\n",
    "n_vocab = min(N_VOCAB, len(dict_K))\n",
    "keras_embedding_matrix = np.zeros((n_vocab, EMBED_DIM))\n",
    "\n",
    "for w, i in dict_K.items():\n",
    "    if i >= n_vocab:    # chop of lower frequency words\n",
    "        continue\n",
    "    v = dict_glove.get(w)\n",
    "    if v is not None:\n",
    "        # words not found in embedding index will be all-zeros.\n",
    "        keras_embedding_matrix[i] = v\n",
    "\n"
   ]
  },
  {
   "cell_type": "code",
   "execution_count": 12,
   "metadata": {},
   "outputs": [
    {
     "name": "stdout",
     "output_type": "stream",
     "text": [
      "Format data input\n",
      "x_all_pad: <class 'numpy.ndarray'> (17256, 58)\n",
      "y_all: <class 'numpy.ndarray'> (8628, 1)\n",
      "x1_trn: <class 'numpy.ndarray'> (5749, 58)\n",
      "x1_val: <class 'numpy.ndarray'> (1500, 58)\n",
      "x1_tes: <class 'numpy.ndarray'> (1379, 58)\n",
      "x2_trn: <class 'numpy.ndarray'> (5749, 58)\n",
      "x2_val: <class 'numpy.ndarray'> (1500, 58)\n",
      "x2_tes: <class 'numpy.ndarray'> (1379, 58)\n",
      "y_trn: <class 'numpy.ndarray'> (5749, 1)\n",
      "y_val: <class 'numpy.ndarray'> (1500, 1)\n",
      "y_tes: <class 'numpy.ndarray'> (1379, 1)\n"
     ]
    }
   ],
   "source": [
    "print('Format data input')\n",
    "\n",
    "x_all_pad = pad_sequences(x_all, maxlen=N_SEQ)\n",
    "y_all = np.asarray(scores_all)\n",
    "y_all = np.reshape(y_all,(y_all.shape[0],1))\n",
    "print(\"x_all_pad:\",type(x_all_pad), x_all_pad.shape)\n",
    "print(\"y_all:\",type(y_all), y_all.shape)\n",
    "\n",
    "# Vectorize the text samples into a 2D integer tensor\n",
    "x1_trn = x_all_pad[0:n_trn]\n",
    "x1_val = x_all_pad[n_trn:n_trn+n_val]\n",
    "x1_tes = x_all_pad[n_trn+n_val:n_data]\n",
    "x2_trn = x_all_pad[n_data:n_data+n_trn]\n",
    "x2_val = x_all_pad[n_data+n_trn:n_data+n_trn+n_val]\n",
    "x2_tes = x_all_pad[n_data+n_trn+n_val:n_data*2]\n",
    "\n",
    "# Normalise scores\n",
    "y_all = y_all/5.0\n",
    "y_trn = y_all[0:n_trn]\n",
    "y_val = y_all[n_trn:n_trn+n_val]\n",
    "y_tes = y_all[n_trn+n_val:n_data]\n",
    "\n",
    "# Normalise scores\n",
    "print(\"x1_trn:\",type(x1_trn), x1_trn.shape)\n",
    "print(\"x1_val:\",type(x1_val), x1_val.shape)\n",
    "print(\"x1_tes:\",type(x1_tes), x1_tes.shape)\n",
    "print(\"x2_trn:\",type(x2_trn), x2_trn.shape)\n",
    "print(\"x2_val:\",type(x2_val), x2_val.shape)\n",
    "print(\"x2_tes:\",type(x2_tes), x2_tes.shape)\n",
    "print(\"y_trn:\",type(y_trn), y_trn.shape)\n",
    "print(\"y_val:\",type(y_val), y_val.shape)\n",
    "print(\"y_tes:\",type(y_tes), y_tes.shape)\n"
   ]
  },
  {
   "cell_type": "markdown",
   "metadata": {},
   "source": [
    "# Build model and run"
   ]
  },
  {
   "cell_type": "code",
   "execution_count": 27,
   "metadata": {},
   "outputs": [
    {
     "name": "stdout",
     "output_type": "stream",
     "text": [
      "After embedding layer: (?, 58, 50)\n",
      "After LSTM layer: (?, 512)\n",
      "-------------\n",
      "After embedding layer: (?, 58, 50)\n",
      "After LSTM layer: (?, 512)\n",
      "-------------\n",
      "After subtract layer: (?, 512)\n",
      "Output, after dot layer: (?, 1)\n"
     ]
    }
   ],
   "source": [
    "# load pre-trained word embeddings into an Embedding layer\n",
    "# note that we set trainable = False so as to keep the embeddings fixed\n",
    "\n",
    "LSTMshared = Bidirectional(LSTM(256, name='BiLSTMshared'))\n",
    "inp1 = Input(shape=(N_SEQ,), dtype='int32', name='inp1')\n",
    "x1 = Embedding(n_vocab, EMBED_DIM, weights=[keras_embedding_matrix], input_length=N_SEQ, trainable=False, name='Embedding1')(inp1)\n",
    "print(\"After embedding layer:\", x1.shape)\n",
    "x1 = LSTMshared(x1)\n",
    "print(\"After LSTM layer:\", x1.shape)\n",
    "x1 = Dropout(0.2, name='dropout1')(x1)\n",
    "\n",
    "print(\"-------------\")\n",
    "inp2 = Input(shape=(N_SEQ,), dtype='int32', name='inp2')\n",
    "x2 = Embedding(n_vocab, EMBED_DIM, weights=[keras_embedding_matrix], input_length=N_SEQ, trainable=False, name='Embedding2')(inp2)\n",
    "print(\"After embedding layer:\", x2.shape)\n",
    "x2 = LSTMshared(x2)\n",
    "print(\"After LSTM layer:\", x2.shape)\n",
    "x2 = Dropout(0.2, name='dropout2')(x2)\n",
    "\n",
    "print(\"-------------\")\n",
    "d = keras.layers.Subtract()([x1, x2])\n",
    "print(\"After subtract layer:\", d.shape)\n",
    "output = keras.layers.dot([x1, x2], axes=1, normalize=True, name='dot')\n",
    "print(\"Output, after dot layer:\", output.shape)\n"
   ]
  },
  {
   "cell_type": "code",
   "execution_count": 28,
   "metadata": {},
   "outputs": [
    {
     "name": "stdout",
     "output_type": "stream",
     "text": [
      "____________________________________________________________________________________________________\n",
      "Layer (type)                     Output Shape          Param #     Connected to                     \n",
      "====================================================================================================\n",
      "inp1 (InputLayer)                (None, 58)            0                                            \n",
      "____________________________________________________________________________________________________\n",
      "inp2 (InputLayer)                (None, 58)            0                                            \n",
      "____________________________________________________________________________________________________\n",
      "Embedding1 (Embedding)           (None, 58, 50)        767400      inp1[0][0]                       \n",
      "____________________________________________________________________________________________________\n",
      "Embedding2 (Embedding)           (None, 58, 50)        767400      inp2[0][0]                       \n",
      "____________________________________________________________________________________________________\n",
      "bidirectional_2 (Bidirectional)  (None, 512)           628736      Embedding1[0][0]                 \n",
      "                                                                   Embedding2[0][0]                 \n",
      "____________________________________________________________________________________________________\n",
      "dropout1 (Dropout)               (None, 512)           0           bidirectional_2[0][0]            \n",
      "____________________________________________________________________________________________________\n",
      "dropout2 (Dropout)               (None, 512)           0           bidirectional_2[1][0]            \n",
      "____________________________________________________________________________________________________\n",
      "dot (Dot)                        (None, 1)             0           dropout1[0][0]                   \n",
      "                                                                   dropout2[0][0]                   \n",
      "====================================================================================================\n",
      "Total params: 2,163,536\n",
      "Trainable params: 628,736\n",
      "Non-trainable params: 1,534,800\n",
      "____________________________________________________________________________________________________\n"
     ]
    }
   ],
   "source": [
    "model = keras.models.Model(inputs=[inp1, inp2], outputs=output)\n",
    "model.summary()"
   ]
  },
  {
   "cell_type": "code",
   "execution_count": 29,
   "metadata": {
    "collapsed": true
   },
   "outputs": [],
   "source": [
    "# define pearson correlation as model metric\n",
    "\n",
    "def pearson_corr(a, b):\n",
    "\n",
    "    a_mean = K.mean(a)\n",
    "    b_mean = K.mean(b)\n",
    "    a_diff = a - a_mean\n",
    "    b_diff = b - b_mean\n",
    "\n",
    "    pcorr = K.sum(a_diff*b_diff)/K.sqrt(K.sum(a_diff*a_diff))/K.sqrt(K.sum(b_diff*b_diff))\n",
    "    \n",
    "    return pcorr\n"
   ]
  },
  {
   "cell_type": "code",
   "execution_count": 30,
   "metadata": {
    "collapsed": true
   },
   "outputs": [],
   "source": [
    "model.compile(loss=keras.losses.mean_squared_error,\n",
    "              optimizer=keras.optimizers.Adadelta(),\n",
    "              metrics=[pearson_corr])"
   ]
  },
  {
   "cell_type": "code",
   "execution_count": null,
   "metadata": {
    "collapsed": true
   },
   "outputs": [],
   "source": []
  },
  {
   "cell_type": "code",
   "execution_count": null,
   "metadata": {
    "collapsed": true
   },
   "outputs": [],
   "source": []
  },
  {
   "cell_type": "code",
   "execution_count": 31,
   "metadata": {
    "collapsed": true
   },
   "outputs": [],
   "source": [
    "# define the checkpoint\n",
    "fname_checkpoints =\"./checkpoints/weights-improvement-{epoch:02d}-{loss:.4f}-RNN-sts.hdf5\"\n",
    "checkpoint = ModelCheckpoint(fname_checkpoints, monitor='loss', verbose=1, save_best_only=True, mode='min')\n",
    "callbacks_list = [checkpoint]"
   ]
  },
  {
   "cell_type": "code",
   "execution_count": null,
   "metadata": {},
   "outputs": [
    {
     "name": "stdout",
     "output_type": "stream",
     "text": [
      "Train on 5749 samples, validate on 1500 samples\n",
      "Epoch 1/30\n",
      "5744/5749 [============================>.] - ETA: 0s - loss: 0.0646 - pearson_corr: 0.5252Epoch 00000: loss improved from inf to 0.06466, saving model to ./checkpoints/weights-improvement-00-0.0647-RNN-sts.hdf5\n",
      "5749/5749 [==============================] - 331s - loss: 0.0647 - pearson_corr: 0.5250 - val_loss: 0.0954 - val_pearson_corr: 0.5083\n",
      "Epoch 2/30\n",
      "5744/5749 [============================>.] - ETA: 0s - loss: 0.0513 - pearson_corr: 0.6246Epoch 00001: loss improved from 0.06466 to 0.05127, saving model to ./checkpoints/weights-improvement-01-0.0513-RNN-sts.hdf5\n",
      "5749/5749 [==============================] - 333s - loss: 0.0513 - pearson_corr: 0.6247 - val_loss: 0.0936 - val_pearson_corr: 0.5684\n",
      "Epoch 3/30\n",
      "5744/5749 [============================>.] - ETA: 0s - loss: 0.0453 - pearson_corr: 0.6771Epoch 00002: loss improved from 0.05127 to 0.04531, saving model to ./checkpoints/weights-improvement-02-0.0453-RNN-sts.hdf5\n",
      "5749/5749 [==============================] - 318s - loss: 0.0453 - pearson_corr: 0.6772 - val_loss: 0.0826 - val_pearson_corr: 0.5792\n",
      "Epoch 4/30\n",
      "5744/5749 [============================>.] - ETA: 0s - loss: 0.0426 - pearson_corr: 0.6942Epoch 00003: loss improved from 0.04531 to 0.04262, saving model to ./checkpoints/weights-improvement-03-0.0426-RNN-sts.hdf5\n",
      "5749/5749 [==============================] - 320s - loss: 0.0426 - pearson_corr: 0.6940 - val_loss: 0.0732 - val_pearson_corr: 0.6093\n",
      "Epoch 5/30\n",
      "5744/5749 [============================>.] - ETA: 0s - loss: 0.0400 - pearson_corr: 0.7258Epoch 00004: loss improved from 0.04262 to 0.03998, saving model to ./checkpoints/weights-improvement-04-0.0400-RNN-sts.hdf5\n",
      "5749/5749 [==============================] - 323s - loss: 0.0400 - pearson_corr: 0.7257 - val_loss: 0.0695 - val_pearson_corr: 0.6204\n",
      "Epoch 6/30\n",
      " 848/5749 [===>..........................] - ETA: 273s - loss: 0.0401 - pearson_corr: 0.7381"
     ]
    }
   ],
   "source": [
    "batch_size = 16\n",
    "epochs = 30\n",
    "hist = model.fit([x1_trn, x2_trn], y_trn,\n",
    "          batch_size=batch_size,\n",
    "          epochs=epochs,\n",
    "          verbose=1,\n",
    "          callbacks = callbacks_list,\n",
    "          validation_data=([x1_val, x2_val], y_val))"
   ]
  },
  {
   "cell_type": "code",
   "execution_count": 19,
   "metadata": {
    "collapsed": true
   },
   "outputs": [],
   "source": [
    "model.save(fname_model)"
   ]
  },
  {
   "cell_type": "code",
   "execution_count": 25,
   "metadata": {
    "collapsed": true
   },
   "outputs": [],
   "source": [
    "model = load_model(fname_model)"
   ]
  },
  {
   "cell_type": "code",
   "execution_count": 22,
   "metadata": {},
   "outputs": [
    {
     "name": "stdout",
     "output_type": "stream",
     "text": [
      "Train on 5749 samples, validate on 1500 samples\n",
      "Epoch 1/30\n",
      "5744/5749 [============================>.] - ETA: 0s - loss: 0.0256 - pearson_corr: 0.8319Epoch 00000: loss improved from 0.02612 to 0.02555, saving model to ./checkpoints/weights-improvement-00-0.0256-RNN-sts.hdf5\n",
      "5749/5749 [==============================] - 90s - loss: 0.0256 - pearson_corr: 0.8320 - val_loss: 0.0699 - val_pearson_corr: 0.5796\n",
      "Epoch 2/30\n",
      "5744/5749 [============================>.] - ETA: 0s - loss: 0.0256 - pearson_corr: 0.8369Epoch 00001: loss did not improve\n",
      "5749/5749 [==============================] - 87s - loss: 0.0256 - pearson_corr: 0.8370 - val_loss: 0.0673 - val_pearson_corr: 0.5862\n",
      "Epoch 3/30\n",
      "5744/5749 [============================>.] - ETA: 0s - loss: 0.0253 - pearson_corr: 0.8406Epoch 00002: loss improved from 0.02555 to 0.02533, saving model to ./checkpoints/weights-improvement-02-0.0253-RNN-sts.hdf5\n",
      "5749/5749 [==============================] - 87s - loss: 0.0253 - pearson_corr: 0.8407 - val_loss: 0.0717 - val_pearson_corr: 0.5710\n",
      "Epoch 4/30\n",
      "5744/5749 [============================>.] - ETA: 0s - loss: 0.0246 - pearson_corr: 0.8457Epoch 00003: loss improved from 0.02533 to 0.02463, saving model to ./checkpoints/weights-improvement-03-0.0246-RNN-sts.hdf5\n",
      "5749/5749 [==============================] - 88s - loss: 0.0246 - pearson_corr: 0.8456 - val_loss: 0.0667 - val_pearson_corr: 0.5757\n",
      "Epoch 5/30\n",
      "5744/5749 [============================>.] - ETA: 0s - loss: 0.0247 - pearson_corr: 0.8435Epoch 00004: loss did not improve\n",
      "5749/5749 [==============================] - 85s - loss: 0.0247 - pearson_corr: 0.8435 - val_loss: 0.0725 - val_pearson_corr: 0.5690\n",
      "Epoch 6/30\n",
      "5744/5749 [============================>.] - ETA: 0s - loss: 0.0242 - pearson_corr: 0.8494Epoch 00005: loss improved from 0.02463 to 0.02419, saving model to ./checkpoints/weights-improvement-05-0.0242-RNN-sts.hdf5\n",
      "5749/5749 [==============================] - 88s - loss: 0.0242 - pearson_corr: 0.8494 - val_loss: 0.0723 - val_pearson_corr: 0.5698\n",
      "Epoch 7/30\n",
      "5744/5749 [============================>.] - ETA: 0s - loss: 0.0244 - pearson_corr: 0.8477Epoch 00006: loss did not improve\n",
      "5749/5749 [==============================] - 98s - loss: 0.0244 - pearson_corr: 0.8477 - val_loss: 0.0711 - val_pearson_corr: 0.5687\n",
      "Epoch 8/30\n",
      "5744/5749 [============================>.] - ETA: 0s - loss: 0.0238 - pearson_corr: 0.8534Epoch 00007: loss improved from 0.02419 to 0.02380, saving model to ./checkpoints/weights-improvement-07-0.0238-RNN-sts.hdf5\n",
      "5749/5749 [==============================] - 86s - loss: 0.0238 - pearson_corr: 0.8533 - val_loss: 0.0724 - val_pearson_corr: 0.5702\n",
      "Epoch 9/30\n",
      "5744/5749 [============================>.] - ETA: 0s - loss: 0.0233 - pearson_corr: 0.8554Epoch 00008: loss improved from 0.02380 to 0.02332, saving model to ./checkpoints/weights-improvement-08-0.0233-RNN-sts.hdf5\n",
      "5749/5749 [==============================] - 87s - loss: 0.0233 - pearson_corr: 0.8555 - val_loss: 0.0664 - val_pearson_corr: 0.5838\n",
      "Epoch 10/30\n",
      "5744/5749 [============================>.] - ETA: 0s - loss: 0.0234 - pearson_corr: 0.8576Epoch 00009: loss did not improve\n",
      "5749/5749 [==============================] - 87s - loss: 0.0234 - pearson_corr: 0.8576 - val_loss: 0.0688 - val_pearson_corr: 0.5744\n",
      "Epoch 11/30\n",
      "5744/5749 [============================>.] - ETA: 0s - loss: 0.0230 - pearson_corr: 0.8553Epoch 00010: loss improved from 0.02332 to 0.02300, saving model to ./checkpoints/weights-improvement-10-0.0230-RNN-sts.hdf5\n",
      "5749/5749 [==============================] - 89s - loss: 0.0230 - pearson_corr: 0.8553 - val_loss: 0.0647 - val_pearson_corr: 0.5851\n",
      "Epoch 12/30\n",
      " 720/5749 [==>...........................] - ETA: 74s - loss: 0.0216 - pearson_corr: 0.8803"
     ]
    },
    {
     "ename": "KeyboardInterrupt",
     "evalue": "",
     "output_type": "error",
     "traceback": [
      "\u001b[0;31m---------------------------------------------------------------------------\u001b[0m",
      "\u001b[0;31mKeyboardInterrupt\u001b[0m                         Traceback (most recent call last)",
      "\u001b[0;32m<ipython-input-22-fd0161ec94bf>\u001b[0m in \u001b[0;36m<module>\u001b[0;34m()\u001b[0m\n\u001b[1;32m      6\u001b[0m           \u001b[0mverbose\u001b[0m\u001b[0;34m=\u001b[0m\u001b[0;36m1\u001b[0m\u001b[0;34m,\u001b[0m\u001b[0;34m\u001b[0m\u001b[0m\n\u001b[1;32m      7\u001b[0m           \u001b[0mcallbacks\u001b[0m \u001b[0;34m=\u001b[0m \u001b[0mcallbacks_list\u001b[0m\u001b[0;34m,\u001b[0m\u001b[0;34m\u001b[0m\u001b[0m\n\u001b[0;32m----> 8\u001b[0;31m           validation_data=([x1_val, x2_val], y_val))\n\u001b[0m",
      "\u001b[0;32m/anaconda3/envs/DLCourse1/lib/python3.6/site-packages/keras/engine/training.py\u001b[0m in \u001b[0;36mfit\u001b[0;34m(self, x, y, batch_size, epochs, verbose, callbacks, validation_split, validation_data, shuffle, class_weight, sample_weight, initial_epoch, steps_per_epoch, validation_steps, **kwargs)\u001b[0m\n\u001b[1;32m   1596\u001b[0m                               \u001b[0minitial_epoch\u001b[0m\u001b[0;34m=\u001b[0m\u001b[0minitial_epoch\u001b[0m\u001b[0;34m,\u001b[0m\u001b[0;34m\u001b[0m\u001b[0m\n\u001b[1;32m   1597\u001b[0m                               \u001b[0msteps_per_epoch\u001b[0m\u001b[0;34m=\u001b[0m\u001b[0msteps_per_epoch\u001b[0m\u001b[0;34m,\u001b[0m\u001b[0;34m\u001b[0m\u001b[0m\n\u001b[0;32m-> 1598\u001b[0;31m                               validation_steps=validation_steps)\n\u001b[0m\u001b[1;32m   1599\u001b[0m \u001b[0;34m\u001b[0m\u001b[0m\n\u001b[1;32m   1600\u001b[0m     def evaluate(self, x, y,\n",
      "\u001b[0;32m/anaconda3/envs/DLCourse1/lib/python3.6/site-packages/keras/engine/training.py\u001b[0m in \u001b[0;36m_fit_loop\u001b[0;34m(self, f, ins, out_labels, batch_size, epochs, verbose, callbacks, val_f, val_ins, shuffle, callback_metrics, initial_epoch, steps_per_epoch, validation_steps)\u001b[0m\n\u001b[1;32m   1181\u001b[0m                     \u001b[0mbatch_logs\u001b[0m\u001b[0;34m[\u001b[0m\u001b[0;34m'size'\u001b[0m\u001b[0;34m]\u001b[0m \u001b[0;34m=\u001b[0m \u001b[0mlen\u001b[0m\u001b[0;34m(\u001b[0m\u001b[0mbatch_ids\u001b[0m\u001b[0;34m)\u001b[0m\u001b[0;34m\u001b[0m\u001b[0m\n\u001b[1;32m   1182\u001b[0m                     \u001b[0mcallbacks\u001b[0m\u001b[0;34m.\u001b[0m\u001b[0mon_batch_begin\u001b[0m\u001b[0;34m(\u001b[0m\u001b[0mbatch_index\u001b[0m\u001b[0;34m,\u001b[0m \u001b[0mbatch_logs\u001b[0m\u001b[0;34m)\u001b[0m\u001b[0;34m\u001b[0m\u001b[0m\n\u001b[0;32m-> 1183\u001b[0;31m                     \u001b[0mouts\u001b[0m \u001b[0;34m=\u001b[0m \u001b[0mf\u001b[0m\u001b[0;34m(\u001b[0m\u001b[0mins_batch\u001b[0m\u001b[0;34m)\u001b[0m\u001b[0;34m\u001b[0m\u001b[0m\n\u001b[0m\u001b[1;32m   1184\u001b[0m                     \u001b[0;32mif\u001b[0m \u001b[0;32mnot\u001b[0m \u001b[0misinstance\u001b[0m\u001b[0;34m(\u001b[0m\u001b[0mouts\u001b[0m\u001b[0;34m,\u001b[0m \u001b[0mlist\u001b[0m\u001b[0;34m)\u001b[0m\u001b[0;34m:\u001b[0m\u001b[0;34m\u001b[0m\u001b[0m\n\u001b[1;32m   1185\u001b[0m                         \u001b[0mouts\u001b[0m \u001b[0;34m=\u001b[0m \u001b[0;34m[\u001b[0m\u001b[0mouts\u001b[0m\u001b[0;34m]\u001b[0m\u001b[0;34m\u001b[0m\u001b[0m\n",
      "\u001b[0;32m/anaconda3/envs/DLCourse1/lib/python3.6/site-packages/keras/backend/tensorflow_backend.py\u001b[0m in \u001b[0;36m__call__\u001b[0;34m(self, inputs)\u001b[0m\n\u001b[1;32m   2271\u001b[0m         updated = session.run(self.outputs + [self.updates_op],\n\u001b[1;32m   2272\u001b[0m                               \u001b[0mfeed_dict\u001b[0m\u001b[0;34m=\u001b[0m\u001b[0mfeed_dict\u001b[0m\u001b[0;34m,\u001b[0m\u001b[0;34m\u001b[0m\u001b[0m\n\u001b[0;32m-> 2273\u001b[0;31m                               **self.session_kwargs)\n\u001b[0m\u001b[1;32m   2274\u001b[0m         \u001b[0;32mreturn\u001b[0m \u001b[0mupdated\u001b[0m\u001b[0;34m[\u001b[0m\u001b[0;34m:\u001b[0m\u001b[0mlen\u001b[0m\u001b[0;34m(\u001b[0m\u001b[0mself\u001b[0m\u001b[0;34m.\u001b[0m\u001b[0moutputs\u001b[0m\u001b[0;34m)\u001b[0m\u001b[0;34m]\u001b[0m\u001b[0;34m\u001b[0m\u001b[0m\n\u001b[1;32m   2275\u001b[0m \u001b[0;34m\u001b[0m\u001b[0m\n",
      "\u001b[0;32m/anaconda3/envs/DLCourse1/lib/python3.6/site-packages/tensorflow/python/client/session.py\u001b[0m in \u001b[0;36mrun\u001b[0;34m(self, fetches, feed_dict, options, run_metadata)\u001b[0m\n\u001b[1;32m    893\u001b[0m     \u001b[0;32mtry\u001b[0m\u001b[0;34m:\u001b[0m\u001b[0;34m\u001b[0m\u001b[0m\n\u001b[1;32m    894\u001b[0m       result = self._run(None, fetches, feed_dict, options_ptr,\n\u001b[0;32m--> 895\u001b[0;31m                          run_metadata_ptr)\n\u001b[0m\u001b[1;32m    896\u001b[0m       \u001b[0;32mif\u001b[0m \u001b[0mrun_metadata\u001b[0m\u001b[0;34m:\u001b[0m\u001b[0;34m\u001b[0m\u001b[0m\n\u001b[1;32m    897\u001b[0m         \u001b[0mproto_data\u001b[0m \u001b[0;34m=\u001b[0m \u001b[0mtf_session\u001b[0m\u001b[0;34m.\u001b[0m\u001b[0mTF_GetBuffer\u001b[0m\u001b[0;34m(\u001b[0m\u001b[0mrun_metadata_ptr\u001b[0m\u001b[0;34m)\u001b[0m\u001b[0;34m\u001b[0m\u001b[0m\n",
      "\u001b[0;32m/anaconda3/envs/DLCourse1/lib/python3.6/site-packages/tensorflow/python/client/session.py\u001b[0m in \u001b[0;36m_run\u001b[0;34m(self, handle, fetches, feed_dict, options, run_metadata)\u001b[0m\n\u001b[1;32m   1122\u001b[0m     \u001b[0;32mif\u001b[0m \u001b[0mfinal_fetches\u001b[0m \u001b[0;32mor\u001b[0m \u001b[0mfinal_targets\u001b[0m \u001b[0;32mor\u001b[0m \u001b[0;34m(\u001b[0m\u001b[0mhandle\u001b[0m \u001b[0;32mand\u001b[0m \u001b[0mfeed_dict_tensor\u001b[0m\u001b[0;34m)\u001b[0m\u001b[0;34m:\u001b[0m\u001b[0;34m\u001b[0m\u001b[0m\n\u001b[1;32m   1123\u001b[0m       results = self._do_run(handle, final_targets, final_fetches,\n\u001b[0;32m-> 1124\u001b[0;31m                              feed_dict_tensor, options, run_metadata)\n\u001b[0m\u001b[1;32m   1125\u001b[0m     \u001b[0;32melse\u001b[0m\u001b[0;34m:\u001b[0m\u001b[0;34m\u001b[0m\u001b[0m\n\u001b[1;32m   1126\u001b[0m       \u001b[0mresults\u001b[0m \u001b[0;34m=\u001b[0m \u001b[0;34m[\u001b[0m\u001b[0;34m]\u001b[0m\u001b[0;34m\u001b[0m\u001b[0m\n",
      "\u001b[0;32m/anaconda3/envs/DLCourse1/lib/python3.6/site-packages/tensorflow/python/client/session.py\u001b[0m in \u001b[0;36m_do_run\u001b[0;34m(self, handle, target_list, fetch_list, feed_dict, options, run_metadata)\u001b[0m\n\u001b[1;32m   1319\u001b[0m     \u001b[0;32mif\u001b[0m \u001b[0mhandle\u001b[0m \u001b[0;32mis\u001b[0m \u001b[0;32mNone\u001b[0m\u001b[0;34m:\u001b[0m\u001b[0;34m\u001b[0m\u001b[0m\n\u001b[1;32m   1320\u001b[0m       return self._do_call(_run_fn, self._session, feeds, fetches, targets,\n\u001b[0;32m-> 1321\u001b[0;31m                            options, run_metadata)\n\u001b[0m\u001b[1;32m   1322\u001b[0m     \u001b[0;32melse\u001b[0m\u001b[0;34m:\u001b[0m\u001b[0;34m\u001b[0m\u001b[0m\n\u001b[1;32m   1323\u001b[0m       \u001b[0;32mreturn\u001b[0m \u001b[0mself\u001b[0m\u001b[0;34m.\u001b[0m\u001b[0m_do_call\u001b[0m\u001b[0;34m(\u001b[0m\u001b[0m_prun_fn\u001b[0m\u001b[0;34m,\u001b[0m \u001b[0mself\u001b[0m\u001b[0;34m.\u001b[0m\u001b[0m_session\u001b[0m\u001b[0;34m,\u001b[0m \u001b[0mhandle\u001b[0m\u001b[0;34m,\u001b[0m \u001b[0mfeeds\u001b[0m\u001b[0;34m,\u001b[0m \u001b[0mfetches\u001b[0m\u001b[0;34m)\u001b[0m\u001b[0;34m\u001b[0m\u001b[0m\n",
      "\u001b[0;32m/anaconda3/envs/DLCourse1/lib/python3.6/site-packages/tensorflow/python/client/session.py\u001b[0m in \u001b[0;36m_do_call\u001b[0;34m(self, fn, *args)\u001b[0m\n\u001b[1;32m   1325\u001b[0m   \u001b[0;32mdef\u001b[0m \u001b[0m_do_call\u001b[0m\u001b[0;34m(\u001b[0m\u001b[0mself\u001b[0m\u001b[0;34m,\u001b[0m \u001b[0mfn\u001b[0m\u001b[0;34m,\u001b[0m \u001b[0;34m*\u001b[0m\u001b[0margs\u001b[0m\u001b[0;34m)\u001b[0m\u001b[0;34m:\u001b[0m\u001b[0;34m\u001b[0m\u001b[0m\n\u001b[1;32m   1326\u001b[0m     \u001b[0;32mtry\u001b[0m\u001b[0;34m:\u001b[0m\u001b[0;34m\u001b[0m\u001b[0m\n\u001b[0;32m-> 1327\u001b[0;31m       \u001b[0;32mreturn\u001b[0m \u001b[0mfn\u001b[0m\u001b[0;34m(\u001b[0m\u001b[0;34m*\u001b[0m\u001b[0margs\u001b[0m\u001b[0;34m)\u001b[0m\u001b[0;34m\u001b[0m\u001b[0m\n\u001b[0m\u001b[1;32m   1328\u001b[0m     \u001b[0;32mexcept\u001b[0m \u001b[0merrors\u001b[0m\u001b[0;34m.\u001b[0m\u001b[0mOpError\u001b[0m \u001b[0;32mas\u001b[0m \u001b[0me\u001b[0m\u001b[0;34m:\u001b[0m\u001b[0;34m\u001b[0m\u001b[0m\n\u001b[1;32m   1329\u001b[0m       \u001b[0mmessage\u001b[0m \u001b[0;34m=\u001b[0m \u001b[0mcompat\u001b[0m\u001b[0;34m.\u001b[0m\u001b[0mas_text\u001b[0m\u001b[0;34m(\u001b[0m\u001b[0me\u001b[0m\u001b[0;34m.\u001b[0m\u001b[0mmessage\u001b[0m\u001b[0;34m)\u001b[0m\u001b[0;34m\u001b[0m\u001b[0m\n",
      "\u001b[0;32m/anaconda3/envs/DLCourse1/lib/python3.6/site-packages/tensorflow/python/client/session.py\u001b[0m in \u001b[0;36m_run_fn\u001b[0;34m(session, feed_dict, fetch_list, target_list, options, run_metadata)\u001b[0m\n\u001b[1;32m   1304\u001b[0m           return tf_session.TF_Run(session, options,\n\u001b[1;32m   1305\u001b[0m                                    \u001b[0mfeed_dict\u001b[0m\u001b[0;34m,\u001b[0m \u001b[0mfetch_list\u001b[0m\u001b[0;34m,\u001b[0m \u001b[0mtarget_list\u001b[0m\u001b[0;34m,\u001b[0m\u001b[0;34m\u001b[0m\u001b[0m\n\u001b[0;32m-> 1306\u001b[0;31m                                    status, run_metadata)\n\u001b[0m\u001b[1;32m   1307\u001b[0m \u001b[0;34m\u001b[0m\u001b[0m\n\u001b[1;32m   1308\u001b[0m     \u001b[0;32mdef\u001b[0m \u001b[0m_prun_fn\u001b[0m\u001b[0;34m(\u001b[0m\u001b[0msession\u001b[0m\u001b[0;34m,\u001b[0m \u001b[0mhandle\u001b[0m\u001b[0;34m,\u001b[0m \u001b[0mfeed_dict\u001b[0m\u001b[0;34m,\u001b[0m \u001b[0mfetch_list\u001b[0m\u001b[0;34m)\u001b[0m\u001b[0;34m:\u001b[0m\u001b[0;34m\u001b[0m\u001b[0m\n",
      "\u001b[0;31mKeyboardInterrupt\u001b[0m: "
     ]
    }
   ],
   "source": [
    "batch_size = 16\n",
    "epochs = 30\n",
    "hist = model.fit([x1_trn, x2_trn], y_trn,\n",
    "          batch_size=batch_size,\n",
    "          epochs=epochs,\n",
    "          verbose=1,\n",
    "          callbacks = callbacks_list,\n",
    "          validation_data=([x1_val, x2_val], y_val))"
   ]
  },
  {
   "cell_type": "code",
   "execution_count": 20,
   "metadata": {},
   "outputs": [
    {
     "data": {
      "image/png": "[encoded data removed]",
      "text/plain": [
       "<matplotlib.figure.Figure at 0x1a32bbeac8>"
      ]
     },
     "metadata": {},
     "output_type": "display_data"
    },
    {
     "data": {
      "image/png": "[encoded data removed]",
      "text/plain": [
       "<matplotlib.figure.Figure at 0x1a32bbea58>"
      ]
     },
     "metadata": {},
     "output_type": "display_data"
    }
   ],
   "source": [
    "def plot_train(hist,metric):\n",
    "    h = hist.history\n",
    "    if metric=='pearson_corr':\n",
    "        meas='pearson_corr'\n",
    "        loc='lower right'\n",
    "    else:\n",
    "        meas='loss'\n",
    "        loc='upper right'\n",
    "    plt.plot(hist.history[meas])\n",
    "    plt.plot(hist.history['val_'+meas])\n",
    "    plt.title('model '+meas)\n",
    "    plt.ylabel(meas)\n",
    "    plt.xlabel('epoch')\n",
    "    plt.legend(['train', 'validation'], loc=loc)\n",
    "    plt.show()\n",
    "    \n",
    "plot_train(hist,'pearson_corr')\n",
    "plot_train(hist,'loss')\n"
   ]
  },
  {
   "cell_type": "code",
   "execution_count": 21,
   "metadata": {},
   "outputs": [
    {
     "name": "stdout",
     "output_type": "stream",
     "text": [
      "1376/1379 [============================>.] - ETA: 0s"
     ]
    },
    {
     "ename": "InvalidArgumentError",
     "evalue": "indices[1,53] = 15348 is not in [0, 15348)\n\t [[Node: Embedding2/Gather = Gather[Tindices=DT_INT32, Tparams=DT_FLOAT, validate_indices=true, _device=\"/job:localhost/replica:0/task:0/cpu:0\"](Embedding2/embeddings/read, _arg_inp2_0_4)]]\n\nCaused by op 'Embedding2/Gather', defined at:\n  File \"/anaconda3/envs/DLCourse1/lib/python3.6/runpy.py\", line 193, in _run_module_as_main\n    \"__main__\", mod_spec)\n  File \"/anaconda3/envs/DLCourse1/lib/python3.6/runpy.py\", line 85, in _run_code\n    exec(code, run_globals)\n  File \"/anaconda3/envs/DLCourse1/lib/python3.6/site-packages/ipykernel_launcher.py\", line 16, in <module>\n    app.launch_new_instance()\n  File \"/anaconda3/envs/DLCourse1/lib/python3.6/site-packages/traitlets/config/application.py\", line 658, in launch_instance\n    app.start()\n  File \"/anaconda3/envs/DLCourse1/lib/python3.6/site-packages/ipykernel/kernelapp.py\", line 477, in start\n    ioloop.IOLoop.instance().start()\n  File \"/anaconda3/envs/DLCourse1/lib/python3.6/site-packages/zmq/eventloop/ioloop.py\", line 177, in start\n    super(ZMQIOLoop, self).start()\n  File \"/anaconda3/envs/DLCourse1/lib/python3.6/site-packages/tornado/ioloop.py\", line 888, in start\n    handler_func(fd_obj, events)\n  File \"/anaconda3/envs/DLCourse1/lib/python3.6/site-packages/tornado/stack_context.py\", line 277, in null_wrapper\n    return fn(*args, **kwargs)\n  File \"/anaconda3/envs/DLCourse1/lib/python3.6/site-packages/zmq/eventloop/zmqstream.py\", line 440, in _handle_events\n    self._handle_recv()\n  File \"/anaconda3/envs/DLCourse1/lib/python3.6/site-packages/zmq/eventloop/zmqstream.py\", line 472, in _handle_recv\n    self._run_callback(callback, msg)\n  File \"/anaconda3/envs/DLCourse1/lib/python3.6/site-packages/zmq/eventloop/zmqstream.py\", line 414, in _run_callback\n    callback(*args, **kwargs)\n  File \"/anaconda3/envs/DLCourse1/lib/python3.6/site-packages/tornado/stack_context.py\", line 277, in null_wrapper\n    return fn(*args, **kwargs)\n  File \"/anaconda3/envs/DLCourse1/lib/python3.6/site-packages/ipykernel/kernelbase.py\", line 283, in dispatcher\n    return self.dispatch_shell(stream, msg)\n  File \"/anaconda3/envs/DLCourse1/lib/python3.6/site-packages/ipykernel/kernelbase.py\", line 235, in dispatch_shell\n    handler(stream, idents, msg)\n  File \"/anaconda3/envs/DLCourse1/lib/python3.6/site-packages/ipykernel/kernelbase.py\", line 399, in execute_request\n    user_expressions, allow_stdin)\n  File \"/anaconda3/envs/DLCourse1/lib/python3.6/site-packages/ipykernel/ipkernel.py\", line 196, in do_execute\n    res = shell.run_cell(code, store_history=store_history, silent=silent)\n  File \"/anaconda3/envs/DLCourse1/lib/python3.6/site-packages/ipykernel/zmqshell.py\", line 533, in run_cell\n    return super(ZMQInteractiveShell, self).run_cell(*args, **kwargs)\n  File \"/anaconda3/envs/DLCourse1/lib/python3.6/site-packages/IPython/core/interactiveshell.py\", line 2698, in run_cell\n    interactivity=interactivity, compiler=compiler, result=result)\n  File \"/anaconda3/envs/DLCourse1/lib/python3.6/site-packages/IPython/core/interactiveshell.py\", line 2802, in run_ast_nodes\n    if self.run_code(code, result):\n  File \"/anaconda3/envs/DLCourse1/lib/python3.6/site-packages/IPython/core/interactiveshell.py\", line 2862, in run_code\n    exec(code_obj, self.user_global_ns, self.user_ns)\n  File \"<ipython-input-13-5534fa4af4ed>\", line 14, in <module>\n    x2 = Embedding(n_vocab, EMBED_DIM, weights=[keras_embedding_matrix], input_length=N_SEQ, trainable=False, name='Embedding2')(inp2)\n  File \"/anaconda3/envs/DLCourse1/lib/python3.6/site-packages/keras/engine/topology.py\", line 602, in __call__\n    output = self.call(inputs, **kwargs)\n  File \"/anaconda3/envs/DLCourse1/lib/python3.6/site-packages/keras/layers/embeddings.py\", line 134, in call\n    out = K.gather(self.embeddings, inputs)\n  File \"/anaconda3/envs/DLCourse1/lib/python3.6/site-packages/keras/backend/tensorflow_backend.py\", line 1134, in gather\n    return tf.gather(reference, indices)\n  File \"/anaconda3/envs/DLCourse1/lib/python3.6/site-packages/tensorflow/python/ops/array_ops.py\", line 2409, in gather\n    validate_indices=validate_indices, name=name)\n  File \"/anaconda3/envs/DLCourse1/lib/python3.6/site-packages/tensorflow/python/ops/gen_array_ops.py\", line 1219, in gather\n    validate_indices=validate_indices, name=name)\n  File \"/anaconda3/envs/DLCourse1/lib/python3.6/site-packages/tensorflow/python/framework/op_def_library.py\", line 767, in apply_op\n    op_def=op_def)\n  File \"/anaconda3/envs/DLCourse1/lib/python3.6/site-packages/tensorflow/python/framework/ops.py\", line 2630, in create_op\n    original_op=self._default_original_op, op_def=op_def)\n  File \"/anaconda3/envs/DLCourse1/lib/python3.6/site-packages/tensorflow/python/framework/ops.py\", line 1204, in __init__\n    self._traceback = self._graph._extract_stack()  # pylint: disable=protected-access\n\nInvalidArgumentError (see above for traceback): indices[1,53] = 15348 is not in [0, 15348)\n\t [[Node: Embedding2/Gather = Gather[Tindices=DT_INT32, Tparams=DT_FLOAT, validate_indices=true, _device=\"/job:localhost/replica:0/task:0/cpu:0\"](Embedding2/embeddings/read, _arg_inp2_0_4)]]\n",
     "output_type": "error",
     "traceback": [
      "\u001b[0;31m---------------------------------------------------------------------------\u001b[0m",
      "\u001b[0;31mInvalidArgumentError\u001b[0m                      Traceback (most recent call last)",
      "\u001b[0;32m/anaconda3/envs/DLCourse1/lib/python3.6/site-packages/tensorflow/python/client/session.py\u001b[0m in \u001b[0;36m_do_call\u001b[0;34m(self, fn, *args)\u001b[0m\n\u001b[1;32m   1326\u001b[0m     \u001b[0;32mtry\u001b[0m\u001b[0;34m:\u001b[0m\u001b[0;34m\u001b[0m\u001b[0m\n\u001b[0;32m-> 1327\u001b[0;31m       \u001b[0;32mreturn\u001b[0m \u001b[0mfn\u001b[0m\u001b[0;34m(\u001b[0m\u001b[0;34m*\u001b[0m\u001b[0margs\u001b[0m\u001b[0;34m)\u001b[0m\u001b[0;34m\u001b[0m\u001b[0m\n\u001b[0m\u001b[1;32m   1328\u001b[0m     \u001b[0;32mexcept\u001b[0m \u001b[0merrors\u001b[0m\u001b[0;34m.\u001b[0m\u001b[0mOpError\u001b[0m \u001b[0;32mas\u001b[0m \u001b[0me\u001b[0m\u001b[0;34m:\u001b[0m\u001b[0;34m\u001b[0m\u001b[0m\n",
      "\u001b[0;32m/anaconda3/envs/DLCourse1/lib/python3.6/site-packages/tensorflow/python/client/session.py\u001b[0m in \u001b[0;36m_run_fn\u001b[0;34m(session, feed_dict, fetch_list, target_list, options, run_metadata)\u001b[0m\n\u001b[1;32m   1305\u001b[0m                                    \u001b[0mfeed_dict\u001b[0m\u001b[0;34m,\u001b[0m \u001b[0mfetch_list\u001b[0m\u001b[0;34m,\u001b[0m \u001b[0mtarget_list\u001b[0m\u001b[0;34m,\u001b[0m\u001b[0;34m\u001b[0m\u001b[0m\n\u001b[0;32m-> 1306\u001b[0;31m                                    status, run_metadata)\n\u001b[0m\u001b[1;32m   1307\u001b[0m \u001b[0;34m\u001b[0m\u001b[0m\n",
      "\u001b[0;32m/anaconda3/envs/DLCourse1/lib/python3.6/contextlib.py\u001b[0m in \u001b[0;36m__exit__\u001b[0;34m(self, type, value, traceback)\u001b[0m\n\u001b[1;32m     87\u001b[0m             \u001b[0;32mtry\u001b[0m\u001b[0;34m:\u001b[0m\u001b[0;34m\u001b[0m\u001b[0m\n\u001b[0;32m---> 88\u001b[0;31m                 \u001b[0mnext\u001b[0m\u001b[0;34m(\u001b[0m\u001b[0mself\u001b[0m\u001b[0;34m.\u001b[0m\u001b[0mgen\u001b[0m\u001b[0;34m)\u001b[0m\u001b[0;34m\u001b[0m\u001b[0m\n\u001b[0m\u001b[1;32m     89\u001b[0m             \u001b[0;32mexcept\u001b[0m \u001b[0mStopIteration\u001b[0m\u001b[0;34m:\u001b[0m\u001b[0;34m\u001b[0m\u001b[0m\n",
      "\u001b[0;32m/anaconda3/envs/DLCourse1/lib/python3.6/site-packages/tensorflow/python/framework/errors_impl.py\u001b[0m in \u001b[0;36mraise_exception_on_not_ok_status\u001b[0;34m()\u001b[0m\n\u001b[1;32m    465\u001b[0m           \u001b[0mcompat\u001b[0m\u001b[0;34m.\u001b[0m\u001b[0mas_text\u001b[0m\u001b[0;34m(\u001b[0m\u001b[0mpywrap_tensorflow\u001b[0m\u001b[0;34m.\u001b[0m\u001b[0mTF_Message\u001b[0m\u001b[0;34m(\u001b[0m\u001b[0mstatus\u001b[0m\u001b[0;34m)\u001b[0m\u001b[0;34m)\u001b[0m\u001b[0;34m,\u001b[0m\u001b[0;34m\u001b[0m\u001b[0m\n\u001b[0;32m--> 466\u001b[0;31m           pywrap_tensorflow.TF_GetCode(status))\n\u001b[0m\u001b[1;32m    467\u001b[0m   \u001b[0;32mfinally\u001b[0m\u001b[0;34m:\u001b[0m\u001b[0;34m\u001b[0m\u001b[0m\n",
      "\u001b[0;31mInvalidArgumentError\u001b[0m: indices[1,53] = 15348 is not in [0, 15348)\n\t [[Node: Embedding2/Gather = Gather[Tindices=DT_INT32, Tparams=DT_FLOAT, validate_indices=true, _device=\"/job:localhost/replica:0/task:0/cpu:0\"](Embedding2/embeddings/read, _arg_inp2_0_4)]]",
      "\nDuring handling of the above exception, another exception occurred:\n",
      "\u001b[0;31mInvalidArgumentError\u001b[0m                      Traceback (most recent call last)",
      "\u001b[0;32m<ipython-input-21-17aba3531c81>\u001b[0m in \u001b[0;36m<module>\u001b[0;34m()\u001b[0m\n\u001b[1;32m      1\u001b[0m \u001b[0;31m# Evaluate model with test data set and share sample prediction results\u001b[0m\u001b[0;34m\u001b[0m\u001b[0;34m\u001b[0m\u001b[0m\n\u001b[1;32m      2\u001b[0m evaluation = model.evaluate([x1_tes, x2_tes], y_tes,\n\u001b[0;32m----> 3\u001b[0;31m           batch_size=batch_size)\n\u001b[0m\u001b[1;32m      4\u001b[0m \u001b[0mprint\u001b[0m\u001b[0;34m(\u001b[0m\u001b[0;34m\"\"\u001b[0m\u001b[0;34m)\u001b[0m\u001b[0;34m\u001b[0m\u001b[0m\n\u001b[1;32m      5\u001b[0m \u001b[0mprint\u001b[0m\u001b[0;34m(\u001b[0m\u001b[0;34m'Model mean squared error = %.2f'\u001b[0m \u001b[0;34m%\u001b[0m \u001b[0;34m(\u001b[0m\u001b[0mevaluation\u001b[0m\u001b[0;34m[\u001b[0m\u001b[0;36m0\u001b[0m\u001b[0;34m]\u001b[0m\u001b[0;34m)\u001b[0m\u001b[0;34m)\u001b[0m\u001b[0;34m\u001b[0m\u001b[0m\n",
      "\u001b[0;32m/anaconda3/envs/DLCourse1/lib/python3.6/site-packages/keras/engine/training.py\u001b[0m in \u001b[0;36mevaluate\u001b[0;34m(self, x, y, batch_size, verbose, sample_weight, steps)\u001b[0m\n\u001b[1;32m   1655\u001b[0m                                \u001b[0mbatch_size\u001b[0m\u001b[0;34m=\u001b[0m\u001b[0mbatch_size\u001b[0m\u001b[0;34m,\u001b[0m\u001b[0;34m\u001b[0m\u001b[0m\n\u001b[1;32m   1656\u001b[0m                                \u001b[0mverbose\u001b[0m\u001b[0;34m=\u001b[0m\u001b[0mverbose\u001b[0m\u001b[0;34m,\u001b[0m\u001b[0;34m\u001b[0m\u001b[0m\n\u001b[0;32m-> 1657\u001b[0;31m                                steps=steps)\n\u001b[0m\u001b[1;32m   1658\u001b[0m \u001b[0;34m\u001b[0m\u001b[0m\n\u001b[1;32m   1659\u001b[0m     def predict(self, x,\n",
      "\u001b[0;32m/anaconda3/envs/DLCourse1/lib/python3.6/site-packages/keras/engine/training.py\u001b[0m in \u001b[0;36m_test_loop\u001b[0;34m(self, f, ins, batch_size, verbose, steps)\u001b[0m\n\u001b[1;32m   1337\u001b[0m                     \u001b[0mins_batch\u001b[0m \u001b[0;34m=\u001b[0m \u001b[0m_slice_arrays\u001b[0m\u001b[0;34m(\u001b[0m\u001b[0mins\u001b[0m\u001b[0;34m,\u001b[0m \u001b[0mbatch_ids\u001b[0m\u001b[0;34m)\u001b[0m\u001b[0;34m\u001b[0m\u001b[0m\n\u001b[1;32m   1338\u001b[0m \u001b[0;34m\u001b[0m\u001b[0m\n\u001b[0;32m-> 1339\u001b[0;31m                 \u001b[0mbatch_outs\u001b[0m \u001b[0;34m=\u001b[0m \u001b[0mf\u001b[0m\u001b[0;34m(\u001b[0m\u001b[0mins_batch\u001b[0m\u001b[0;34m)\u001b[0m\u001b[0;34m\u001b[0m\u001b[0m\n\u001b[0m\u001b[1;32m   1340\u001b[0m                 \u001b[0;32mif\u001b[0m \u001b[0misinstance\u001b[0m\u001b[0;34m(\u001b[0m\u001b[0mbatch_outs\u001b[0m\u001b[0;34m,\u001b[0m \u001b[0mlist\u001b[0m\u001b[0;34m)\u001b[0m\u001b[0;34m:\u001b[0m\u001b[0;34m\u001b[0m\u001b[0m\n\u001b[1;32m   1341\u001b[0m                     \u001b[0;32mif\u001b[0m \u001b[0mbatch_index\u001b[0m \u001b[0;34m==\u001b[0m \u001b[0;36m0\u001b[0m\u001b[0;34m:\u001b[0m\u001b[0;34m\u001b[0m\u001b[0m\n",
      "\u001b[0;32m/anaconda3/envs/DLCourse1/lib/python3.6/site-packages/keras/backend/tensorflow_backend.py\u001b[0m in \u001b[0;36m__call__\u001b[0;34m(self, inputs)\u001b[0m\n\u001b[1;32m   2271\u001b[0m         updated = session.run(self.outputs + [self.updates_op],\n\u001b[1;32m   2272\u001b[0m                               \u001b[0mfeed_dict\u001b[0m\u001b[0;34m=\u001b[0m\u001b[0mfeed_dict\u001b[0m\u001b[0;34m,\u001b[0m\u001b[0;34m\u001b[0m\u001b[0m\n\u001b[0;32m-> 2273\u001b[0;31m                               **self.session_kwargs)\n\u001b[0m\u001b[1;32m   2274\u001b[0m         \u001b[0;32mreturn\u001b[0m \u001b[0mupdated\u001b[0m\u001b[0;34m[\u001b[0m\u001b[0;34m:\u001b[0m\u001b[0mlen\u001b[0m\u001b[0;34m(\u001b[0m\u001b[0mself\u001b[0m\u001b[0;34m.\u001b[0m\u001b[0moutputs\u001b[0m\u001b[0;34m)\u001b[0m\u001b[0;34m]\u001b[0m\u001b[0;34m\u001b[0m\u001b[0m\n\u001b[1;32m   2275\u001b[0m \u001b[0;34m\u001b[0m\u001b[0m\n",
      "\u001b[0;32m/anaconda3/envs/DLCourse1/lib/python3.6/site-packages/tensorflow/python/client/session.py\u001b[0m in \u001b[0;36mrun\u001b[0;34m(self, fetches, feed_dict, options, run_metadata)\u001b[0m\n\u001b[1;32m    893\u001b[0m     \u001b[0;32mtry\u001b[0m\u001b[0;34m:\u001b[0m\u001b[0;34m\u001b[0m\u001b[0m\n\u001b[1;32m    894\u001b[0m       result = self._run(None, fetches, feed_dict, options_ptr,\n\u001b[0;32m--> 895\u001b[0;31m                          run_metadata_ptr)\n\u001b[0m\u001b[1;32m    896\u001b[0m       \u001b[0;32mif\u001b[0m \u001b[0mrun_metadata\u001b[0m\u001b[0;34m:\u001b[0m\u001b[0;34m\u001b[0m\u001b[0m\n\u001b[1;32m    897\u001b[0m         \u001b[0mproto_data\u001b[0m \u001b[0;34m=\u001b[0m \u001b[0mtf_session\u001b[0m\u001b[0;34m.\u001b[0m\u001b[0mTF_GetBuffer\u001b[0m\u001b[0;34m(\u001b[0m\u001b[0mrun_metadata_ptr\u001b[0m\u001b[0;34m)\u001b[0m\u001b[0;34m\u001b[0m\u001b[0m\n",
      "\u001b[0;32m/anaconda3/envs/DLCourse1/lib/python3.6/site-packages/tensorflow/python/client/session.py\u001b[0m in \u001b[0;36m_run\u001b[0;34m(self, handle, fetches, feed_dict, options, run_metadata)\u001b[0m\n\u001b[1;32m   1122\u001b[0m     \u001b[0;32mif\u001b[0m \u001b[0mfinal_fetches\u001b[0m \u001b[0;32mor\u001b[0m \u001b[0mfinal_targets\u001b[0m \u001b[0;32mor\u001b[0m \u001b[0;34m(\u001b[0m\u001b[0mhandle\u001b[0m \u001b[0;32mand\u001b[0m \u001b[0mfeed_dict_tensor\u001b[0m\u001b[0;34m)\u001b[0m\u001b[0;34m:\u001b[0m\u001b[0;34m\u001b[0m\u001b[0m\n\u001b[1;32m   1123\u001b[0m       results = self._do_run(handle, final_targets, final_fetches,\n\u001b[0;32m-> 1124\u001b[0;31m                              feed_dict_tensor, options, run_metadata)\n\u001b[0m\u001b[1;32m   1125\u001b[0m     \u001b[0;32melse\u001b[0m\u001b[0;34m:\u001b[0m\u001b[0;34m\u001b[0m\u001b[0m\n\u001b[1;32m   1126\u001b[0m       \u001b[0mresults\u001b[0m \u001b[0;34m=\u001b[0m \u001b[0;34m[\u001b[0m\u001b[0;34m]\u001b[0m\u001b[0;34m\u001b[0m\u001b[0m\n",
      "\u001b[0;32m/anaconda3/envs/DLCourse1/lib/python3.6/site-packages/tensorflow/python/client/session.py\u001b[0m in \u001b[0;36m_do_run\u001b[0;34m(self, handle, target_list, fetch_list, feed_dict, options, run_metadata)\u001b[0m\n\u001b[1;32m   1319\u001b[0m     \u001b[0;32mif\u001b[0m \u001b[0mhandle\u001b[0m \u001b[0;32mis\u001b[0m \u001b[0;32mNone\u001b[0m\u001b[0;34m:\u001b[0m\u001b[0;34m\u001b[0m\u001b[0m\n\u001b[1;32m   1320\u001b[0m       return self._do_call(_run_fn, self._session, feeds, fetches, targets,\n\u001b[0;32m-> 1321\u001b[0;31m                            options, run_metadata)\n\u001b[0m\u001b[1;32m   1322\u001b[0m     \u001b[0;32melse\u001b[0m\u001b[0;34m:\u001b[0m\u001b[0;34m\u001b[0m\u001b[0m\n\u001b[1;32m   1323\u001b[0m       \u001b[0;32mreturn\u001b[0m \u001b[0mself\u001b[0m\u001b[0;34m.\u001b[0m\u001b[0m_do_call\u001b[0m\u001b[0;34m(\u001b[0m\u001b[0m_prun_fn\u001b[0m\u001b[0;34m,\u001b[0m \u001b[0mself\u001b[0m\u001b[0;34m.\u001b[0m\u001b[0m_session\u001b[0m\u001b[0;34m,\u001b[0m \u001b[0mhandle\u001b[0m\u001b[0;34m,\u001b[0m \u001b[0mfeeds\u001b[0m\u001b[0;34m,\u001b[0m \u001b[0mfetches\u001b[0m\u001b[0;34m)\u001b[0m\u001b[0;34m\u001b[0m\u001b[0m\n",
      "\u001b[0;32m/anaconda3/envs/DLCourse1/lib/python3.6/site-packages/tensorflow/python/client/session.py\u001b[0m in \u001b[0;36m_do_call\u001b[0;34m(self, fn, *args)\u001b[0m\n\u001b[1;32m   1338\u001b[0m         \u001b[0;32mexcept\u001b[0m \u001b[0mKeyError\u001b[0m\u001b[0;34m:\u001b[0m\u001b[0;34m\u001b[0m\u001b[0m\n\u001b[1;32m   1339\u001b[0m           \u001b[0;32mpass\u001b[0m\u001b[0;34m\u001b[0m\u001b[0m\n\u001b[0;32m-> 1340\u001b[0;31m       \u001b[0;32mraise\u001b[0m \u001b[0mtype\u001b[0m\u001b[0;34m(\u001b[0m\u001b[0me\u001b[0m\u001b[0;34m)\u001b[0m\u001b[0;34m(\u001b[0m\u001b[0mnode_def\u001b[0m\u001b[0;34m,\u001b[0m \u001b[0mop\u001b[0m\u001b[0;34m,\u001b[0m \u001b[0mmessage\u001b[0m\u001b[0;34m)\u001b[0m\u001b[0;34m\u001b[0m\u001b[0m\n\u001b[0m\u001b[1;32m   1341\u001b[0m \u001b[0;34m\u001b[0m\u001b[0m\n\u001b[1;32m   1342\u001b[0m   \u001b[0;32mdef\u001b[0m \u001b[0m_extend_graph\u001b[0m\u001b[0;34m(\u001b[0m\u001b[0mself\u001b[0m\u001b[0;34m)\u001b[0m\u001b[0;34m:\u001b[0m\u001b[0;34m\u001b[0m\u001b[0m\n",
      "\u001b[0;31mInvalidArgumentError\u001b[0m: indices[1,53] = 15348 is not in [0, 15348)\n\t [[Node: Embedding2/Gather = Gather[Tindices=DT_INT32, Tparams=DT_FLOAT, validate_indices=true, _device=\"/job:localhost/replica:0/task:0/cpu:0\"](Embedding2/embeddings/read, _arg_inp2_0_4)]]\n\nCaused by op 'Embedding2/Gather', defined at:\n  File \"/anaconda3/envs/DLCourse1/lib/python3.6/runpy.py\", line 193, in _run_module_as_main\n    \"__main__\", mod_spec)\n  File \"/anaconda3/envs/DLCourse1/lib/python3.6/runpy.py\", line 85, in _run_code\n    exec(code, run_globals)\n  File \"/anaconda3/envs/DLCourse1/lib/python3.6/site-packages/ipykernel_launcher.py\", line 16, in <module>\n    app.launch_new_instance()\n  File \"/anaconda3/envs/DLCourse1/lib/python3.6/site-packages/traitlets/config/application.py\", line 658, in launch_instance\n    app.start()\n  File \"/anaconda3/envs/DLCourse1/lib/python3.6/site-packages/ipykernel/kernelapp.py\", line 477, in start\n    ioloop.IOLoop.instance().start()\n  File \"/anaconda3/envs/DLCourse1/lib/python3.6/site-packages/zmq/eventloop/ioloop.py\", line 177, in start\n    super(ZMQIOLoop, self).start()\n  File \"/anaconda3/envs/DLCourse1/lib/python3.6/site-packages/tornado/ioloop.py\", line 888, in start\n    handler_func(fd_obj, events)\n  File \"/anaconda3/envs/DLCourse1/lib/python3.6/site-packages/tornado/stack_context.py\", line 277, in null_wrapper\n    return fn(*args, **kwargs)\n  File \"/anaconda3/envs/DLCourse1/lib/python3.6/site-packages/zmq/eventloop/zmqstream.py\", line 440, in _handle_events\n    self._handle_recv()\n  File \"/anaconda3/envs/DLCourse1/lib/python3.6/site-packages/zmq/eventloop/zmqstream.py\", line 472, in _handle_recv\n    self._run_callback(callback, msg)\n  File \"/anaconda3/envs/DLCourse1/lib/python3.6/site-packages/zmq/eventloop/zmqstream.py\", line 414, in _run_callback\n    callback(*args, **kwargs)\n  File \"/anaconda3/envs/DLCourse1/lib/python3.6/site-packages/tornado/stack_context.py\", line 277, in null_wrapper\n    return fn(*args, **kwargs)\n  File \"/anaconda3/envs/DLCourse1/lib/python3.6/site-packages/ipykernel/kernelbase.py\", line 283, in dispatcher\n    return self.dispatch_shell(stream, msg)\n  File \"/anaconda3/envs/DLCourse1/lib/python3.6/site-packages/ipykernel/kernelbase.py\", line 235, in dispatch_shell\n    handler(stream, idents, msg)\n  File \"/anaconda3/envs/DLCourse1/lib/python3.6/site-packages/ipykernel/kernelbase.py\", line 399, in execute_request\n    user_expressions, allow_stdin)\n  File \"/anaconda3/envs/DLCourse1/lib/python3.6/site-packages/ipykernel/ipkernel.py\", line 196, in do_execute\n    res = shell.run_cell(code, store_history=store_history, silent=silent)\n  File \"/anaconda3/envs/DLCourse1/lib/python3.6/site-packages/ipykernel/zmqshell.py\", line 533, in run_cell\n    return super(ZMQInteractiveShell, self).run_cell(*args, **kwargs)\n  File \"/anaconda3/envs/DLCourse1/lib/python3.6/site-packages/IPython/core/interactiveshell.py\", line 2698, in run_cell\n    interactivity=interactivity, compiler=compiler, result=result)\n  File \"/anaconda3/envs/DLCourse1/lib/python3.6/site-packages/IPython/core/interactiveshell.py\", line 2802, in run_ast_nodes\n    if self.run_code(code, result):\n  File \"/anaconda3/envs/DLCourse1/lib/python3.6/site-packages/IPython/core/interactiveshell.py\", line 2862, in run_code\n    exec(code_obj, self.user_global_ns, self.user_ns)\n  File \"<ipython-input-13-5534fa4af4ed>\", line 14, in <module>\n    x2 = Embedding(n_vocab, EMBED_DIM, weights=[keras_embedding_matrix], input_length=N_SEQ, trainable=False, name='Embedding2')(inp2)\n  File \"/anaconda3/envs/DLCourse1/lib/python3.6/site-packages/keras/engine/topology.py\", line 602, in __call__\n    output = self.call(inputs, **kwargs)\n  File \"/anaconda3/envs/DLCourse1/lib/python3.6/site-packages/keras/layers/embeddings.py\", line 134, in call\n    out = K.gather(self.embeddings, inputs)\n  File \"/anaconda3/envs/DLCourse1/lib/python3.6/site-packages/keras/backend/tensorflow_backend.py\", line 1134, in gather\n    return tf.gather(reference, indices)\n  File \"/anaconda3/envs/DLCourse1/lib/python3.6/site-packages/tensorflow/python/ops/array_ops.py\", line 2409, in gather\n    validate_indices=validate_indices, name=name)\n  File \"/anaconda3/envs/DLCourse1/lib/python3.6/site-packages/tensorflow/python/ops/gen_array_ops.py\", line 1219, in gather\n    validate_indices=validate_indices, name=name)\n  File \"/anaconda3/envs/DLCourse1/lib/python3.6/site-packages/tensorflow/python/framework/op_def_library.py\", line 767, in apply_op\n    op_def=op_def)\n  File \"/anaconda3/envs/DLCourse1/lib/python3.6/site-packages/tensorflow/python/framework/ops.py\", line 2630, in create_op\n    original_op=self._default_original_op, op_def=op_def)\n  File \"/anaconda3/envs/DLCourse1/lib/python3.6/site-packages/tensorflow/python/framework/ops.py\", line 1204, in __init__\n    self._traceback = self._graph._extract_stack()  # pylint: disable=protected-access\n\nInvalidArgumentError (see above for traceback): indices[1,53] = 15348 is not in [0, 15348)\n\t [[Node: Embedding2/Gather = Gather[Tindices=DT_INT32, Tparams=DT_FLOAT, validate_indices=true, _device=\"/job:localhost/replica:0/task:0/cpu:0\"](Embedding2/embeddings/read, _arg_inp2_0_4)]]\n"
     ]
    }
   ],
   "source": [
    "# Evaluate model with test data set and share sample prediction results\n",
    "evaluation = model.evaluate([x1_tes, x2_tes], y_tes,\n",
    "          batch_size=batch_size)\n",
    "print(\"\")\n",
    "print('Model mean squared error = %.2f' % (evaluation[0]))\n",
    "print('Model pearson correlation = %.2f' % (evaluation[1]))\n"
   ]
  },
  {
   "attachments": {
    "image.png": {
     "image/png": "[encoded data removed]"
    }
   },
   "cell_type": "markdown",
   "metadata": {
    "collapsed": true
   },
   "source": [
    "# Results for model 1 : shared LSTM\n",
    "\n",
    "\n",
    "    LSTMshared = LSTM(128, name='LSTMshared')\n",
    "    inp1 = Input(shape=(N_SEQ,), dtype='int32', name='inp1')\n",
    "    x1 = Embedding(n_vocab, \n",
    "                   EMBED_DIM, \n",
    "                   weights=[keras_embedding_matrix],\n",
    "                   input_length=N_SEQ, \n",
    "                   trainable=False, \n",
    "                   name='Embedding1')(inp1)\n",
    "    x1 = LSTMshared(x1)\n",
    "    x1 = Dropout(0.2, name='dropout1')(x1)\n",
    "\n",
    "    inp2 = Input(shape=(N_SEQ,), dtype='int32', name='inp2')\n",
    "    x2 = Embedding(n_vocab, \n",
    "                   EMBED_DIM, \n",
    "                   weights=[keras_embedding_matrix],\n",
    "                   input_length=N_SEQ, \n",
    "                   trainable=False, \n",
    "                   name='Embedding1')(inp2)\n",
    "    x2 = LSTMshared(x2)\n",
    "    x2 = Dropout(0.2, name='dropout2')(x2)\n",
    "\n",
    "    d = keras.layers.Subtract()([x1, x2])\n",
    "    output = keras.layers.dot([x1, x2], \n",
    "                              axes=1,\n",
    "                              normalize=True,\n",
    "                              name='dot')\n",
    "\n",
    "    __________________________________________________________________\n",
    "    Layer (type)          Output Shape       Param #    Connected to                     \n",
    "    ==================================================================\n",
    "    inp1 (InputLayer)    (None, 58)          0                        \n",
    "    __________________________________________________________________\n",
    "    inp2 (InputLayer)    (None, 58)          0                        \n",
    "    __________________________________________________________________\n",
    "    Embedding1           (None, 58, 50)      767400   inp1[0][0]\n",
    "    (Embedding)    \n",
    "    __________________________________________________________________\n",
    "    Embedding2           (None, 58, 50)      767400   inp2[0][0]\n",
    "    (Embedding) \n",
    "    __________________________________________________________________\n",
    "    LSTMshared (LSTM)    (None, 128)         91648   Embedding1[0][0]\n",
    "                                                     Embedding2[0][0]\n",
    "    __________________________________________________________________\n",
    "    dropout1 (Dropout)   (None, 128)         0       LSTMshared[0][0]\n",
    "    __________________________________________________________________\n",
    "    dropout2 (Dropout)  (None, 128)          0       LSTMshared[1][0] \n",
    "    __________________________________________________________________\n",
    "    dot (Dot)           (None, 1)            0       dropout1[0][0]\n",
    "                                                     dropout2[0][0]\n",
    "    ==================================================================\n",
    "    Total params: 1,626,448\n",
    "    Trainable params: 91,648\n",
    "    Non-trainable params: 1,534,800\n",
    "    \n",
    "    \n",
    "![image.png](attachment:image.png)\n"
   ]
  },
  {
   "attachments": {
    "image.png": {
     "image/png": "[encoded data removed]"
    }
   },
   "cell_type": "markdown",
   "metadata": {},
   "source": [
    "![image.png](attachment:image.png)"
   ]
  },
  {
   "attachments": {},
   "cell_type": "markdown",
   "metadata": {
    "collapsed": true
   },
   "source": [
    "# Results for model 2 : with dense layers between LSTM \n",
    "\n",
    "\n",
    "    x1 = LSTM(256, name='LSTM1')(inp1)\n",
    "    x1 = Dense(128, name='dense1')(x1)\n",
    "    x1 = Dropout(0.25)(x1)\n",
    "\n",
    "    x2 = LSTM(256, name='LSTM2')(inp2)\n",
    "    x2 = Dense(128, name='dense2')(x2)\n",
    "    x2 = Dropout(0.25)(x2)\n",
    "\n",
    "    d = keras.layers.Subtract()([x1, x2])\n",
    "    output = keras.layers.dot([x1, x2], axes=1, normalize=False, name='dot')\n",
    "    \n",
    "    ____________________________________________________________________________________________________\n",
    "    Layer (type)                     Output Shape          Param #     Connected to                     \n",
    "    ====================================================================================================\n",
    "    input1 (InputLayer)              (None, 62, 50)        0                                            \n",
    "    ____________________________________________________________________________________________________\n",
    "    input2 (InputLayer)              (None, 62, 50)        0                                            \n",
    "    ____________________________________________________________________________________________________\n",
    "    LSTM1 (LSTM)                     (None, 256)           314368      input1[0][0]                     \n",
    "    ____________________________________________________________________________________________________\n",
    "    LSTM2 (LSTM)                     (None, 256)           314368      input2[0][0]                     \n",
    "    ____________________________________________________________________________________________________\n",
    "    dense1 (Dense)                   (None, 128)           32896       LSTM1[0][0]                      \n",
    "    ____________________________________________________________________________________________________\n",
    "    dense2 (Dense)                   (None, 128)           32896       LSTM2[0][0]                      \n",
    "    ____________________________________________________________________________________________________\n",
    "    dropout_3 (Dropout)              (None, 128)           0           dense1[0][0]                     \n",
    "    ____________________________________________________________________________________________________\n",
    "    dropout_4 (Dropout)              (None, 128)           0           dense2[0][0]                     \n",
    "    ____________________________________________________________________________________________________\n",
    "    dot (Dot)                        (None, 1)             0           dropout_3[0][0]                  \n",
    "                                                                       dropout_4[0][0]                  \n",
    "    ====================================================================================================\n",
    "    Total params: 694,528\n",
    "    Trainable params: 694,528\n",
    "    Non-trainable params: 0\n",
    "    ____________________________________________________________________________________________________\n",
    "    \n",
    "   "
   ]
  },
  {
   "cell_type": "code",
   "execution_count": null,
   "metadata": {
    "collapsed": true
   },
   "outputs": [],
   "source": []
  },
  {
   "cell_type": "markdown",
   "metadata": {
    "collapsed": true
   },
   "source": [
    "Stats when nltk tokenizer was used:\n",
    "\n",
    "    Total number of records    : 8628\n",
    "    Total number of sentences  : 17256    ( 2 x 8628 = 17256 )\n",
    "    Max words in one sentence  : 61\n",
    "    Max char in one sentence   : 368\n",
    "    Total number of words      : 197340\n",
    "    Total number of vocabulary : 18511\n",
    "    Total number of characters : 1028053\n",
    "\n",
    "\n"
   ]
  }
 ],
 "metadata": {
  "kernelspec": {
   "display_name": "Python 3",
   "language": "python",
   "name": "python3"
  },
  "language_info": {
   "codemirror_mode": {
    "name": "ipython",
    "version": 3
   },
   "file_extension": ".py",
   "mimetype": "text/x-python",
   "name": "python",
   "nbconvert_exporter": "python",
   "pygments_lexer": "ipython3",
   "version": "3.6.2"
  }
 },
 "nbformat": 4,
 "nbformat_minor": 2
}
